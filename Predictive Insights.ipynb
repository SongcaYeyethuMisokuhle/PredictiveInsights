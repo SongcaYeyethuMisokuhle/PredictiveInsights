{
 "cells": [
  {
   "cell_type": "code",
   "execution_count": 34,
   "id": "bee7d5a9",
   "metadata": {},
   "outputs": [],
   "source": [
    "import numpy as np\n",
    "import pandas as pd\n",
    "import torch\n",
    "import plotly.express as px\n",
    "\n",
    "from sklearn.model_selection import train_test_split, StratifiedKFold, cross_val_score, GridSearchCV\n",
    "from sklearn.preprocessing import StandardScaler, OrdinalEncoder, OneHotEncoder\n",
    "from sklearn.compose import ColumnTransformer\n",
    "from sklearn.pipeline import Pipeline\n",
    "from sklearn.ensemble import RandomForestRegressor, GradientBoostingRegressor, VotingRegressor\n",
    "from sklearn.neural_network import MLPRegressor\n",
    "from sklearn.multioutput import MultiOutputRegressor\n",
    "from sklearn.metrics import mean_absolute_error, mean_squared_error, r2_score\n",
    "\n",
    "import xgboost as xgb\n",
    "from xgboost import XGBRegressor\n",
    "import lightgbm as lgb\n",
    "from lightgbm import LGBMRegressor\n",
    "\n",
    "\n",
    "# ===============================\n",
    "# Load Data\n",
    "# ===============================\n",
    "dt_train = pd.read_csv(\"train 2.csv\")\n",
    "dt_test = pd.read_csv(\"test 2.csv\")\n",
    "\n",
    "X = dt_train.drop(columns=[\"Successful\", \"Progress\", \"Candidate\", \"Gender\", \"Race\"])\n",
    "y = dt_train[[\"Successful\", \"Progress\"]]\n",
    "\n",
    "# Exclude protected columns\n",
    "protected_cols = [\"Gender\", \"Race\"]\n"
   ]
  },
  {
   "cell_type": "code",
   "execution_count": 35,
   "id": "694c6f30",
   "metadata": {},
   "outputs": [
    {
     "data": {
      "text/html": [
       "<div>\n",
       "<style scoped>\n",
       "    .dataframe tbody tr th:only-of-type {\n",
       "        vertical-align: middle;\n",
       "    }\n",
       "\n",
       "    .dataframe tbody tr th {\n",
       "        vertical-align: top;\n",
       "    }\n",
       "\n",
       "    .dataframe thead th {\n",
       "        text-align: right;\n",
       "    }\n",
       "</style>\n",
       "<table border=\"1\" class=\"dataframe\">\n",
       "  <thead>\n",
       "    <tr style=\"text-align: right;\">\n",
       "      <th></th>\n",
       "      <th>Industry</th>\n",
       "      <th>Company</th>\n",
       "      <th>Opportunity</th>\n",
       "      <th>Candidate</th>\n",
       "      <th>Gender</th>\n",
       "      <th>Age</th>\n",
       "      <th>Race</th>\n",
       "      <th>Institution</th>\n",
       "      <th>Aggregate</th>\n",
       "      <th>Qualification</th>\n",
       "      <th>Disciplines</th>\n",
       "      <th>Progress</th>\n",
       "      <th>Successful</th>\n",
       "      <th>NumCandidates</th>\n",
       "    </tr>\n",
       "  </thead>\n",
       "  <tbody>\n",
       "    <tr>\n",
       "      <th>0</th>\n",
       "      <td>Banking (Commercial &amp; Retail)</td>\n",
       "      <td>Client C</td>\n",
       "      <td>3</td>\n",
       "      <td>4</td>\n",
       "      <td>Female</td>\n",
       "      <td>22</td>\n",
       "      <td>Black</td>\n",
       "      <td>University of Johannesburg</td>\n",
       "      <td>89</td>\n",
       "      <td>Bachelor of Science</td>\n",
       "      <td>Computer Science, Information Technology</td>\n",
       "      <td>1</td>\n",
       "      <td>False</td>\n",
       "      <td>357</td>\n",
       "    </tr>\n",
       "    <tr>\n",
       "      <th>1</th>\n",
       "      <td>Legal</td>\n",
       "      <td>Client B</td>\n",
       "      <td>2</td>\n",
       "      <td>5</td>\n",
       "      <td>Female</td>\n",
       "      <td>27</td>\n",
       "      <td>Black</td>\n",
       "      <td>University of Johannesburg</td>\n",
       "      <td>68</td>\n",
       "      <td>Bachelor of Laws</td>\n",
       "      <td>Law</td>\n",
       "      <td>1</td>\n",
       "      <td>False</td>\n",
       "      <td>1443</td>\n",
       "    </tr>\n",
       "    <tr>\n",
       "      <th>2</th>\n",
       "      <td>Legal</td>\n",
       "      <td>Client B</td>\n",
       "      <td>2</td>\n",
       "      <td>6</td>\n",
       "      <td>Female</td>\n",
       "      <td>24</td>\n",
       "      <td>Black</td>\n",
       "      <td>University of Limpopo</td>\n",
       "      <td>70</td>\n",
       "      <td>Bachelor of Laws</td>\n",
       "      <td>Law</td>\n",
       "      <td>1</td>\n",
       "      <td>False</td>\n",
       "      <td>1443</td>\n",
       "    </tr>\n",
       "    <tr>\n",
       "      <th>3</th>\n",
       "      <td>Legal</td>\n",
       "      <td>Client B</td>\n",
       "      <td>2</td>\n",
       "      <td>10</td>\n",
       "      <td>Female</td>\n",
       "      <td>21</td>\n",
       "      <td>Black</td>\n",
       "      <td>University of the Western Cape</td>\n",
       "      <td>66</td>\n",
       "      <td>Bachelor of Laws</td>\n",
       "      <td>Law</td>\n",
       "      <td>1</td>\n",
       "      <td>False</td>\n",
       "      <td>1443</td>\n",
       "    </tr>\n",
       "    <tr>\n",
       "      <th>4</th>\n",
       "      <td>Banking (Commercial &amp; Retail)</td>\n",
       "      <td>Client C</td>\n",
       "      <td>4</td>\n",
       "      <td>11</td>\n",
       "      <td>Female</td>\n",
       "      <td>25</td>\n",
       "      <td>Black</td>\n",
       "      <td>North-West University</td>\n",
       "      <td>65</td>\n",
       "      <td>Bachelor of Commerce (Honours)</td>\n",
       "      <td>Economics, Risk Management</td>\n",
       "      <td>5</td>\n",
       "      <td>False</td>\n",
       "      <td>503</td>\n",
       "    </tr>\n",
       "    <tr>\n",
       "      <th>...</th>\n",
       "      <td>...</td>\n",
       "      <td>...</td>\n",
       "      <td>...</td>\n",
       "      <td>...</td>\n",
       "      <td>...</td>\n",
       "      <td>...</td>\n",
       "      <td>...</td>\n",
       "      <td>...</td>\n",
       "      <td>...</td>\n",
       "      <td>...</td>\n",
       "      <td>...</td>\n",
       "      <td>...</td>\n",
       "      <td>...</td>\n",
       "      <td>...</td>\n",
       "    </tr>\n",
       "    <tr>\n",
       "      <th>80527</th>\n",
       "      <td>Legal</td>\n",
       "      <td>Client E</td>\n",
       "      <td>20</td>\n",
       "      <td>36204</td>\n",
       "      <td>Female</td>\n",
       "      <td>19</td>\n",
       "      <td>Black</td>\n",
       "      <td>University of Johannesburg</td>\n",
       "      <td>70</td>\n",
       "      <td>Bachelor of Laws</td>\n",
       "      <td>Law</td>\n",
       "      <td>1</td>\n",
       "      <td>False</td>\n",
       "      <td>1615</td>\n",
       "    </tr>\n",
       "    <tr>\n",
       "      <th>80528</th>\n",
       "      <td>Legal</td>\n",
       "      <td>Client F</td>\n",
       "      <td>14</td>\n",
       "      <td>36204</td>\n",
       "      <td>Female</td>\n",
       "      <td>22</td>\n",
       "      <td>Black</td>\n",
       "      <td>University of Johannesburg</td>\n",
       "      <td>70</td>\n",
       "      <td>Bachelor of Laws</td>\n",
       "      <td>Law</td>\n",
       "      <td>1</td>\n",
       "      <td>False</td>\n",
       "      <td>2624</td>\n",
       "    </tr>\n",
       "    <tr>\n",
       "      <th>80529</th>\n",
       "      <td>Legal</td>\n",
       "      <td>Client A</td>\n",
       "      <td>69</td>\n",
       "      <td>2264</td>\n",
       "      <td>Female</td>\n",
       "      <td>25</td>\n",
       "      <td>Black</td>\n",
       "      <td>University of South Africa</td>\n",
       "      <td>77</td>\n",
       "      <td>Bachelor of Laws</td>\n",
       "      <td>Law</td>\n",
       "      <td>1</td>\n",
       "      <td>False</td>\n",
       "      <td>3176</td>\n",
       "    </tr>\n",
       "    <tr>\n",
       "      <th>80530</th>\n",
       "      <td>Legal</td>\n",
       "      <td>Client A</td>\n",
       "      <td>39</td>\n",
       "      <td>2264</td>\n",
       "      <td>Female</td>\n",
       "      <td>26</td>\n",
       "      <td>Black</td>\n",
       "      <td>University of South Africa</td>\n",
       "      <td>77</td>\n",
       "      <td>Bachelor of Laws</td>\n",
       "      <td>Law</td>\n",
       "      <td>1</td>\n",
       "      <td>False</td>\n",
       "      <td>3117</td>\n",
       "    </tr>\n",
       "    <tr>\n",
       "      <th>80531</th>\n",
       "      <td>Legal</td>\n",
       "      <td>Client F</td>\n",
       "      <td>9</td>\n",
       "      <td>2264</td>\n",
       "      <td>Female</td>\n",
       "      <td>26</td>\n",
       "      <td>Black</td>\n",
       "      <td>University of South Africa</td>\n",
       "      <td>77</td>\n",
       "      <td>Bachelor of Laws</td>\n",
       "      <td>Law</td>\n",
       "      <td>1</td>\n",
       "      <td>False</td>\n",
       "      <td>1923</td>\n",
       "    </tr>\n",
       "  </tbody>\n",
       "</table>\n",
       "<p>80532 rows × 14 columns</p>\n",
       "</div>"
      ],
      "text/plain": [
       "                            Industry   Company  Opportunity  Candidate  \\\n",
       "0      Banking (Commercial & Retail)  Client C            3          4   \n",
       "1                              Legal  Client B            2          5   \n",
       "2                              Legal  Client B            2          6   \n",
       "3                              Legal  Client B            2         10   \n",
       "4      Banking (Commercial & Retail)  Client C            4         11   \n",
       "...                              ...       ...          ...        ...   \n",
       "80527                          Legal  Client E           20      36204   \n",
       "80528                          Legal  Client F           14      36204   \n",
       "80529                          Legal  Client A           69       2264   \n",
       "80530                          Legal  Client A           39       2264   \n",
       "80531                          Legal  Client F            9       2264   \n",
       "\n",
       "       Gender  Age   Race                     Institution  Aggregate  \\\n",
       "0      Female   22  Black      University of Johannesburg         89   \n",
       "1      Female   27  Black      University of Johannesburg         68   \n",
       "2      Female   24  Black           University of Limpopo         70   \n",
       "3      Female   21  Black  University of the Western Cape         66   \n",
       "4      Female   25  Black           North-West University         65   \n",
       "...       ...  ...    ...                             ...        ...   \n",
       "80527  Female   19  Black      University of Johannesburg         70   \n",
       "80528  Female   22  Black      University of Johannesburg         70   \n",
       "80529  Female   25  Black      University of South Africa         77   \n",
       "80530  Female   26  Black      University of South Africa         77   \n",
       "80531  Female   26  Black      University of South Africa         77   \n",
       "\n",
       "                        Qualification  \\\n",
       "0                 Bachelor of Science   \n",
       "1                    Bachelor of Laws   \n",
       "2                    Bachelor of Laws   \n",
       "3                    Bachelor of Laws   \n",
       "4      Bachelor of Commerce (Honours)   \n",
       "...                               ...   \n",
       "80527                Bachelor of Laws   \n",
       "80528                Bachelor of Laws   \n",
       "80529                Bachelor of Laws   \n",
       "80530                Bachelor of Laws   \n",
       "80531                Bachelor of Laws   \n",
       "\n",
       "                                    Disciplines  Progress  Successful  \\\n",
       "0      Computer Science, Information Technology         1       False   \n",
       "1                                           Law         1       False   \n",
       "2                                           Law         1       False   \n",
       "3                                           Law         1       False   \n",
       "4                    Economics, Risk Management         5       False   \n",
       "...                                         ...       ...         ...   \n",
       "80527                                       Law         1       False   \n",
       "80528                                       Law         1       False   \n",
       "80529                                       Law         1       False   \n",
       "80530                                       Law         1       False   \n",
       "80531                                       Law         1       False   \n",
       "\n",
       "       NumCandidates  \n",
       "0                357  \n",
       "1               1443  \n",
       "2               1443  \n",
       "3               1443  \n",
       "4                503  \n",
       "...              ...  \n",
       "80527           1615  \n",
       "80528           2624  \n",
       "80529           3176  \n",
       "80530           3117  \n",
       "80531           1923  \n",
       "\n",
       "[80532 rows x 14 columns]"
      ]
     },
     "execution_count": 35,
     "metadata": {},
     "output_type": "execute_result"
    }
   ],
   "source": [
    "dt_train"
   ]
  },
  {
   "cell_type": "code",
   "execution_count": 36,
   "id": "6f24d3b7",
   "metadata": {},
   "outputs": [
    {
     "data": {
      "text/plain": [
       "(80532, 14)"
      ]
     },
     "execution_count": 36,
     "metadata": {},
     "output_type": "execute_result"
    }
   ],
   "source": [
    "dt_train.shape"
   ]
  },
  {
   "cell_type": "code",
   "execution_count": 37,
   "id": "bfd398d9",
   "metadata": {},
   "outputs": [
    {
     "name": "stdout",
     "output_type": "stream",
     "text": [
      "<class 'pandas.core.frame.DataFrame'>\n",
      "RangeIndex: 80532 entries, 0 to 80531\n",
      "Data columns (total 14 columns):\n",
      " #   Column         Non-Null Count  Dtype \n",
      "---  ------         --------------  ----- \n",
      " 0   Industry       80020 non-null  object\n",
      " 1   Company        80532 non-null  object\n",
      " 2   Opportunity    80532 non-null  int64 \n",
      " 3   Candidate      80532 non-null  int64 \n",
      " 4   Gender         79487 non-null  object\n",
      " 5   Age            80532 non-null  int64 \n",
      " 6   Race           79448 non-null  object\n",
      " 7   Institution    80487 non-null  object\n",
      " 8   Aggregate      80532 non-null  int64 \n",
      " 9   Qualification  80486 non-null  object\n",
      " 10  Disciplines    80154 non-null  object\n",
      " 11  Progress       80532 non-null  int64 \n",
      " 12  Successful     80532 non-null  bool  \n",
      " 13  NumCandidates  80532 non-null  int64 \n",
      "dtypes: bool(1), int64(6), object(7)\n",
      "memory usage: 8.1+ MB\n"
     ]
    }
   ],
   "source": [
    "dt_train.info()"
   ]
  },
  {
   "cell_type": "code",
   "execution_count": 38,
   "id": "5e610c01",
   "metadata": {},
   "outputs": [],
   "source": [
    "dt_train = dt_train.drop(columns=[\"Candidate\"])"
   ]
  },
  {
   "cell_type": "code",
   "execution_count": 39,
   "id": "135ce8e7",
   "metadata": {},
   "outputs": [
    {
     "name": "stdout",
     "output_type": "stream",
     "text": [
      "Industry          512\n",
      "Company             0\n",
      "Opportunity         0\n",
      "Gender           1045\n",
      "Age                 0\n",
      "Race             1084\n",
      "Institution        45\n",
      "Aggregate           0\n",
      "Qualification      46\n",
      "Disciplines       378\n",
      "Progress            0\n",
      "Successful          0\n",
      "NumCandidates       0\n",
      "dtype: int64\n",
      "Any missing values?: True\n"
     ]
    }
   ],
   "source": [
    "print(dt_train.isnull().sum())\n",
    "\n",
    "# Or get a quick summary if any missing values exist at all\n",
    "print(\"Any missing values?:\", dt_train.isnull().values.any())"
   ]
  },
  {
   "cell_type": "code",
   "execution_count": 40,
   "id": "a5dc7681",
   "metadata": {},
   "outputs": [
    {
     "name": "stdout",
     "output_type": "stream",
     "text": [
      "Any missing values left?: False\n",
      "Shape after dropping: (78570, 13)\n"
     ]
    }
   ],
   "source": [
    "# Drop rows with missing values\n",
    "dt_train = dt_train.dropna()\n",
    "\n",
    "# Reset index after dropping\n",
    "dt_train = dt_train.reset_index(drop=True)\n",
    "\n",
    "# Verify no missing values remain\n",
    "print(\"Any missing values left?:\", dt_train.isnull().values.any())\n",
    "print(\"Shape after dropping:\", dt_train.shape)\n"
   ]
  },
  {
   "cell_type": "code",
   "execution_count": 41,
   "id": "f9c8536e",
   "metadata": {},
   "outputs": [],
   "source": [
    "# Features & target\n",
    "X = dt_train.drop(columns=[\"Successful\",\"Progress\"])\n",
    "y = dt_train[[\"Successful\",\"Progress\"]]  # multi-output\n",
    "\n",
    "# Identify categorical and numerical\n",
    "categorical_cols = X.select_dtypes(include=[\"object\"]).columns.tolist()\n",
    "numerical_cols = X.select_dtypes(include=[\"int64\",\"float64\"]).columns.tolist()"
   ]
  },
  {
   "cell_type": "code",
   "execution_count": 42,
   "id": "b9ccaac9",
   "metadata": {},
   "outputs": [
    {
     "name": "stdout",
     "output_type": "stream",
     "text": [
      "<class 'pandas.core.frame.DataFrame'>\n",
      "RangeIndex: 78570 entries, 0 to 78569\n",
      "Data columns (total 13 columns):\n",
      " #   Column         Non-Null Count  Dtype \n",
      "---  ------         --------------  ----- \n",
      " 0   Industry       78570 non-null  object\n",
      " 1   Company        78570 non-null  object\n",
      " 2   Opportunity    78570 non-null  int64 \n",
      " 3   Gender         78570 non-null  object\n",
      " 4   Age            78570 non-null  int64 \n",
      " 5   Race           78570 non-null  object\n",
      " 6   Institution    78570 non-null  object\n",
      " 7   Aggregate      78570 non-null  int64 \n",
      " 8   Qualification  78570 non-null  object\n",
      " 9   Disciplines    78570 non-null  object\n",
      " 10  Progress       78570 non-null  int64 \n",
      " 11  Successful     78570 non-null  bool  \n",
      " 12  NumCandidates  78570 non-null  int64 \n",
      "dtypes: bool(1), int64(5), object(7)\n",
      "memory usage: 7.3+ MB\n"
     ]
    }
   ],
   "source": [
    "dt_train.info()"
   ]
  },
  {
   "cell_type": "markdown",
   "id": "4466e42b",
   "metadata": {},
   "source": [
    "# **Base Modelling Pipelines**\n",
    "1. RandomForestRegressor (with MultiOutputRegressor)\n",
    "2. XGBRegressor (XGBoost, with MultiOutputRegressor)\n",
    "3. LGBMRegressor (LightGBM, with MultiOutputRegressor)\n",
    "4. MLPRegressor (Multi-layer Perceptron, with MultiOutputRegressor)\n",
    "5. VotingRegressor (ensemble of RandomForest and MLP)"
   ]
  },
  {
   "cell_type": "code",
   "execution_count": 43,
   "id": "27fdb0cd",
   "metadata": {},
   "outputs": [],
   "source": [
    "# Features & targets\n",
    "X = dt_train.drop(columns=[\"Successful\",\"Progress\"])\n",
    "y = dt_train[[\"Successful\",\"Progress\"]]\n",
    "\n",
    "\n",
    "# Identify categorical and numerical columns\n",
    "categorical_cols = X.select_dtypes(include=['object', 'category']).columns.tolist()\n",
    "numerical_cols = X.select_dtypes(include=['int64','float64']).columns.tolist()\n",
    "\n",
    "# Preprocessing pipeline for non-CatBoost models\n",
    "preprocessor = ColumnTransformer([\n",
    "    (\"num\", StandardScaler(), numerical_cols),\n",
    "    (\"cat\", OneHotEncoder(handle_unknown=\"ignore\"), categorical_cols)\n",
    "])\n",
    "\n",
    "# Define models\n",
    "models = {\n",
    "    \"RandomForest\": MultiOutputRegressor(RandomForestRegressor(n_estimators=200, random_state=42)),\n",
    "    \"XGBoost\": MultiOutputRegressor(XGBRegressor(objective=\"reg:squarederror\", n_estimators=200)),\n",
    "    \"LightGBM\": MultiOutputRegressor(LGBMRegressor(n_estimators=200)),\n",
    "    \"MLP\": MultiOutputRegressor(MLPRegressor(hidden_layer_sizes=(128,64), max_iter=500)),\n",
    "}"
   ]
  },
  {
   "cell_type": "code",
   "execution_count": 44,
   "id": "d2319e2d",
   "metadata": {},
   "outputs": [],
   "source": [
    "pipelines = {}\n",
    "for name, model in models.items():\n",
    "    pipelines[name] = Pipeline([\n",
    "        (\"preprocessor\", preprocessor),\n",
    "        (\"regressor\", model)\n",
    "    ])"
   ]
  },
  {
   "cell_type": "code",
   "execution_count": 45,
   "id": "c6e5ec31",
   "metadata": {},
   "outputs": [
    {
     "name": "stderr",
     "output_type": "stream",
     "text": [
      "C:\\Users\\noman\\AppData\\Local\\Packages\\PythonSoftwareFoundation.Python.3.10_qbz5n2kfra8p0\\LocalCache\\local-packages\\Python310\\site-packages\\joblib\\externals\\loky\\backend\\context.py:110: UserWarning: Could not find the number of physical cores for the following reason:\n",
      "[WinError 2] The system cannot find the file specified\n",
      "Returning the number of logical cores instead. You can silence this warning by setting LOKY_MAX_CPU_COUNT to the number of cores you want to use.\n",
      "  warnings.warn(\n",
      "  File \"C:\\Users\\noman\\AppData\\Local\\Packages\\PythonSoftwareFoundation.Python.3.10_qbz5n2kfra8p0\\LocalCache\\local-packages\\Python310\\site-packages\\joblib\\externals\\loky\\backend\\context.py\", line 199, in _count_physical_cores\n",
      "    cpu_info = subprocess.run(\n",
      "  File \"C:\\Program Files\\WindowsApps\\PythonSoftwareFoundation.Python.3.10_3.10.3056.0_x64__qbz5n2kfra8p0\\lib\\subprocess.py\", line 503, in run\n",
      "    with Popen(*popenargs, **kwargs) as process:\n",
      "  File \"C:\\Program Files\\WindowsApps\\PythonSoftwareFoundation.Python.3.10_3.10.3056.0_x64__qbz5n2kfra8p0\\lib\\subprocess.py\", line 971, in __init__\n",
      "    self._execute_child(args, executable, preexec_fn, close_fds,\n",
      "  File \"C:\\Program Files\\WindowsApps\\PythonSoftwareFoundation.Python.3.10_3.10.3056.0_x64__qbz5n2kfra8p0\\lib\\subprocess.py\", line 1456, in _execute_child\n",
      "    hp, ht, pid, tid = _winapi.CreateProcess(executable, args,\n"
     ]
    },
    {
     "name": "stdout",
     "output_type": "stream",
     "text": [
      "[LightGBM] [Info] Auto-choosing row-wise multi-threading, the overhead of testing was 0.005027 seconds.\n",
      "You can set `force_row_wise=true` to remove the overhead.\n",
      "And if memory is not enough, you can set `force_col_wise=true`.\n",
      "[LightGBM] [Info] Total Bins 1118\n",
      "[LightGBM] [Info] Number of data points in the train set: 78570, number of used features: 355\n",
      "[LightGBM] [Info] Start training from score 0.009546\n",
      "[LightGBM] [Info] Auto-choosing row-wise multi-threading, the overhead of testing was 0.003520 seconds.\n",
      "You can set `force_row_wise=true` to remove the overhead.\n",
      "And if memory is not enough, you can set `force_col_wise=true`.\n",
      "[LightGBM] [Info] Total Bins 1118\n",
      "[LightGBM] [Info] Number of data points in the train set: 78570, number of used features: 355\n",
      "[LightGBM] [Info] Start training from score 1.475741\n"
     ]
    },
    {
     "name": "stderr",
     "output_type": "stream",
     "text": [
      "C:\\Users\\noman\\AppData\\Local\\Packages\\PythonSoftwareFoundation.Python.3.10_qbz5n2kfra8p0\\LocalCache\\local-packages\\Python310\\site-packages\\sklearn\\utils\\validation.py:2749: UserWarning: X does not have valid feature names, but LGBMRegressor was fitted with feature names\n",
      "  warnings.warn(\n",
      "C:\\Users\\noman\\AppData\\Local\\Packages\\PythonSoftwareFoundation.Python.3.10_qbz5n2kfra8p0\\LocalCache\\local-packages\\Python310\\site-packages\\sklearn\\utils\\validation.py:2749: UserWarning: X does not have valid feature names, but LGBMRegressor was fitted with feature names\n",
      "  warnings.warn(\n"
     ]
    },
    {
     "name": "stdout",
     "output_type": "stream",
     "text": [
      "          Model      MAE     RMSE       R2  Adjusted R2\n",
      "0  RandomForest  0.07840  0.20991  0.85052      0.85050\n",
      "1       XGBoost  0.18886  0.44668  0.41823      0.41814\n",
      "2      LightGBM  0.19441  0.46495  0.31000      0.30990\n",
      "3           MLP  0.12711  0.30163  0.60540      0.60534\n"
     ]
    }
   ],
   "source": [
    "# Train & evaluate on full data\n",
    "# -------------------------\n",
    "results = []\n",
    "\n",
    "for name, pipe in pipelines.items():\n",
    "    pipe.fit(X, y)\n",
    "    y_pred = pipe.predict(X)\n",
    "    \n",
    "    mae = mean_absolute_error(y, y_pred)\n",
    "    rmse = np.sqrt(mean_squared_error(y, y_pred))\n",
    "    r2 = r2_score(y, y_pred)\n",
    "    n, p = X.shape\n",
    "    adj_r2 = 1 - (1 - r2) * (n - 1) / (n - p - 1)\n",
    "    \n",
    "    results.append([name, round(mae,5), round(rmse,5), round(r2,5), round(adj_r2,5)])\n",
    "\n",
    "# Convert to DataFrame\n",
    "results_df = pd.DataFrame(results, columns=[\"Model\",\"MAE\",\"RMSE\",\"R2\",\"Adjusted R2\"])\n",
    "print(results_df)\n"
   ]
  },
  {
   "cell_type": "code",
   "execution_count": null,
   "id": "d9f8c3c5",
   "metadata": {},
   "outputs": [],
   "source": [
    "# Transform features using the preprocessor from one of the trained pipelines\n",
    "X_transformed = pipelines[\"RandomForest\"].named_steps[\"preprocessor\"].transform(X)\n",
    "\n",
    "# Extract fitted single-output regressors\n",
    "rf_estimators = pipelines[\"RandomForest\"].named_steps[\"regressor\"].estimators_\n",
    "mlp_estimators = pipelines[\"MLP\"].named_steps[\"regressor\"].estimators_\n",
    "\n",
    "# Create VotingRegressor for each target\n",
    "voting_estimators = []\n",
    "for i in range(y.shape[1]):\n",
    "    voting = VotingRegressor([\n",
    "        (\"rf\", rf_estimators[i]),\n",
    "        (\"mlp\", mlp_estimators[i])\n",
    "    ])\n",
    "    voting.fit(X_transformed, y.iloc[:, i])\n",
    "    voting_estimators.append(voting)\n",
    "\n",
    "# Predict using the voting ensemble\n",
    "y_pred_voting = np.column_stack([\n",
    "    voting_estimators[i].predict(X_transformed) for i in range(y.shape[1])\n",
    "])\n",
    "\n",
    "# Evaluate\n",
    "mae = mean_absolute_error(y, y_pred_voting)\n",
    "rmse = np.sqrt(mean_squared_error(y, y_pred_voting))\n",
    "r2 = r2_score(y, y_pred_voting)\n",
    "n, p = X.shape\n",
    "adj_r2 = 1 - (1 - r2) * (n - 1) / (n - p - 1)\n",
    "\n",
    "\n"
   ]
  },
  {
   "cell_type": "code",
   "execution_count": null,
   "id": "ddc82cac",
   "metadata": {},
   "outputs": [
    {
     "name": "stdout",
     "output_type": "stream",
     "text": [
      "Voting Ensemble - MAE: 0.02547, RMSE: 0.06231, R2: 0.96665, Adjusted R2: 0.96634\n"
     ]
    }
   ],
   "source": [
    "print(f\"Voting Ensemble - MAE: {mae:.5f}, RMSE: {rmse:.5f}, R2: {r2:.5f}, Adjusted R2: {adj_r2:.5f}\")"
   ]
  },
  {
   "cell_type": "code",
   "execution_count": null,
   "id": "04f33b19",
   "metadata": {},
   "outputs": [
    {
     "data": {
      "text/html": [
       "<div>\n",
       "<style scoped>\n",
       "    .dataframe tbody tr th:only-of-type {\n",
       "        vertical-align: middle;\n",
       "    }\n",
       "\n",
       "    .dataframe tbody tr th {\n",
       "        vertical-align: top;\n",
       "    }\n",
       "\n",
       "    .dataframe thead th {\n",
       "        text-align: right;\n",
       "    }\n",
       "</style>\n",
       "<table border=\"1\" class=\"dataframe\">\n",
       "  <thead>\n",
       "    <tr style=\"text-align: right;\">\n",
       "      <th></th>\n",
       "      <th>Model</th>\n",
       "      <th>MAE</th>\n",
       "      <th>RMSE</th>\n",
       "      <th>R2</th>\n",
       "      <th>Adjusted R2</th>\n",
       "    </tr>\n",
       "  </thead>\n",
       "  <tbody>\n",
       "    <tr>\n",
       "      <th>0</th>\n",
       "      <td>RandomForest</td>\n",
       "      <td>0.07909</td>\n",
       "      <td>0.20150</td>\n",
       "      <td>0.86417</td>\n",
       "      <td>0.86402</td>\n",
       "    </tr>\n",
       "    <tr>\n",
       "      <th>1</th>\n",
       "      <td>XGBoost</td>\n",
       "      <td>0.15084</td>\n",
       "      <td>0.35321</td>\n",
       "      <td>0.76576</td>\n",
       "      <td>0.76550</td>\n",
       "    </tr>\n",
       "    <tr>\n",
       "      <th>2</th>\n",
       "      <td>LightGBM</td>\n",
       "      <td>0.17299</td>\n",
       "      <td>0.40392</td>\n",
       "      <td>0.50136</td>\n",
       "      <td>0.50081</td>\n",
       "    </tr>\n",
       "    <tr>\n",
       "      <th>3</th>\n",
       "      <td>MLP</td>\n",
       "      <td>0.08623</td>\n",
       "      <td>0.19223</td>\n",
       "      <td>0.80468</td>\n",
       "      <td>0.80447</td>\n",
       "    </tr>\n",
       "    <tr>\n",
       "      <th>4</th>\n",
       "      <td>Voting Ensemble</td>\n",
       "      <td>0.02547</td>\n",
       "      <td>0.06231</td>\n",
       "      <td>0.96665</td>\n",
       "      <td>0.96634</td>\n",
       "    </tr>\n",
       "  </tbody>\n",
       "</table>\n",
       "</div>"
      ],
      "text/plain": [
       "             Model      MAE     RMSE       R2  Adjusted R2\n",
       "0     RandomForest  0.07909  0.20150  0.86417      0.86402\n",
       "1          XGBoost  0.15084  0.35321  0.76576      0.76550\n",
       "2         LightGBM  0.17299  0.40392  0.50136      0.50081\n",
       "3              MLP  0.08623  0.19223  0.80468      0.80447\n",
       "4  Voting Ensemble  0.02547  0.06231  0.96665      0.96634"
      ]
     },
     "execution_count": 20,
     "metadata": {},
     "output_type": "execute_result"
    }
   ],
   "source": [
    "results.append([\"Voting Ensemble\", round(mae,5), round(rmse,5), round(r2,5), round(adj_r2,5)])\n",
    "\n",
    "# Convert to DataFrame\n",
    "results_df = pd.DataFrame(results, columns=[\"Model\",\"MAE\",\"RMSE\",\"R2\",\"Adjusted R2\"])\n",
    "results_df "
   ]
  },
  {
   "cell_type": "code",
   "execution_count": 21,
   "id": "ebc13876",
   "metadata": {},
   "outputs": [
    {
     "data": {
      "text/plain": [
       "['Industry',\n",
       " 'Company',\n",
       " 'Opportunity',\n",
       " 'Gender',\n",
       " 'Age',\n",
       " 'Race',\n",
       " 'Institution',\n",
       " 'Aggregate',\n",
       " 'Qualification',\n",
       " 'Disciplines',\n",
       " 'NumCandidates']"
      ]
     },
     "execution_count": 21,
     "metadata": {},
     "output_type": "execute_result"
    }
   ],
   "source": [
    "X.columns.tolist()"
   ]
  },
  {
   "cell_type": "markdown",
   "id": "96607d24",
   "metadata": {},
   "source": [
    "# **Optimization of the Voting Classifier**\n",
    "##### 1. RandomForest with ACO and \n",
    "##### 2.MLP with Simulated Annealing"
   ]
  },
  {
   "cell_type": "code",
   "execution_count": 164,
   "id": "bf54504f",
   "metadata": {},
   "outputs": [
    {
     "name": "stdout",
     "output_type": "stream",
     "text": [
      "Collecting mlrose-hiive\n",
      "  Downloading mlrose_hiive-2.2.4.tar.gz (49 kB)\n",
      "  Preparing metadata (setup.py): started\n",
      "  Preparing metadata (setup.py): finished with status 'done'\n",
      "Requirement already satisfied: numpy in c:\\users\\noman\\appdata\\local\\packages\\pythonsoftwarefoundation.python.3.10_qbz5n2kfra8p0\\localcache\\local-packages\\python310\\site-packages (from mlrose-hiive) (2.2.6)\n",
      "Requirement already satisfied: scipy in c:\\users\\noman\\appdata\\local\\packages\\pythonsoftwarefoundation.python.3.10_qbz5n2kfra8p0\\localcache\\local-packages\\python310\\site-packages (from mlrose-hiive) (1.15.3)\n",
      "Requirement already satisfied: scikit-learn in c:\\users\\noman\\appdata\\local\\packages\\pythonsoftwarefoundation.python.3.10_qbz5n2kfra8p0\\localcache\\local-packages\\python310\\site-packages (from mlrose-hiive) (1.7.2)\n",
      "Requirement already satisfied: pandas in c:\\users\\noman\\appdata\\local\\packages\\pythonsoftwarefoundation.python.3.10_qbz5n2kfra8p0\\localcache\\local-packages\\python310\\site-packages (from mlrose-hiive) (2.3.2)\n",
      "Requirement already satisfied: networkx in c:\\users\\noman\\appdata\\local\\packages\\pythonsoftwarefoundation.python.3.10_qbz5n2kfra8p0\\localcache\\local-packages\\python310\\site-packages (from mlrose-hiive) (3.4.2)\n",
      "Requirement already satisfied: joblib in c:\\users\\noman\\appdata\\local\\packages\\pythonsoftwarefoundation.python.3.10_qbz5n2kfra8p0\\localcache\\local-packages\\python310\\site-packages (from mlrose-hiive) (1.5.2)\n",
      "Requirement already satisfied: python-dateutil>=2.8.2 in c:\\users\\noman\\appdata\\local\\packages\\pythonsoftwarefoundation.python.3.10_qbz5n2kfra8p0\\localcache\\local-packages\\python310\\site-packages (from pandas->mlrose-hiive) (2.9.0.post0)\n",
      "Requirement already satisfied: pytz>=2020.1 in c:\\users\\noman\\appdata\\local\\packages\\pythonsoftwarefoundation.python.3.10_qbz5n2kfra8p0\\localcache\\local-packages\\python310\\site-packages (from pandas->mlrose-hiive) (2025.2)\n",
      "Requirement already satisfied: tzdata>=2022.7 in c:\\users\\noman\\appdata\\local\\packages\\pythonsoftwarefoundation.python.3.10_qbz5n2kfra8p0\\localcache\\local-packages\\python310\\site-packages (from pandas->mlrose-hiive) (2025.2)\n",
      "Requirement already satisfied: six>=1.5 in c:\\users\\noman\\appdata\\local\\packages\\pythonsoftwarefoundation.python.3.10_qbz5n2kfra8p0\\localcache\\local-packages\\python310\\site-packages (from python-dateutil>=2.8.2->pandas->mlrose-hiive) (1.17.0)\n",
      "Requirement already satisfied: threadpoolctl>=3.1.0 in c:\\users\\noman\\appdata\\local\\packages\\pythonsoftwarefoundation.python.3.10_qbz5n2kfra8p0\\localcache\\local-packages\\python310\\site-packages (from scikit-learn->mlrose-hiive) (3.6.0)\n",
      "Building wheels for collected packages: mlrose-hiive\n",
      "  Building wheel for mlrose-hiive (setup.py): started\n",
      "  Building wheel for mlrose-hiive (setup.py): finished with status 'done'\n",
      "  Created wheel for mlrose-hiive: filename=mlrose_hiive-2.2.4-py3-none-any.whl size=98415 sha256=36940c940ab09ab1e62c2e60f334e266671857030db4e7dfae4a97229ddb5925\n",
      "  Stored in directory: c:\\users\\noman\\appdata\\local\\pip\\cache\\wheels\\bc\\e5\\b1\\de57d3595365eda00e4c8b37f65601da5c85c6afcf146423eb\n",
      "Successfully built mlrose-hiive\n",
      "Installing collected packages: mlrose-hiive\n",
      "Successfully installed mlrose-hiive-2.2.4\n",
      "Note: you may need to restart the kernel to use updated packages.\n"
     ]
    },
    {
     "name": "stderr",
     "output_type": "stream",
     "text": [
      "  DEPRECATION: Building 'mlrose-hiive' using the legacy setup.py bdist_wheel mechanism, which will be removed in a future version. pip 25.3 will enforce this behaviour change. A possible replacement is to use the standardized build interface by setting the `--use-pep517` option, (possibly combined with `--no-build-isolation`), or adding a `pyproject.toml` file to the source tree of 'mlrose-hiive'. Discussion can be found at https://github.com/pypa/pip/issues/6334\n"
     ]
    }
   ],
   "source": [
    "pip install mlrose-hiive\n"
   ]
  },
  {
   "cell_type": "code",
   "execution_count": 165,
   "id": "b2821412",
   "metadata": {},
   "outputs": [],
   "source": [
    "import numpy as np\n",
    "from sklearn.model_selection import cross_val_score\n",
    "from sklearn.ensemble import RandomForestRegressor\n",
    "from sklearn.neural_network import MLPRegressor\n",
    "from sklearn.multioutput import MultiOutputRegressor\n",
    "from sklearn.pipeline import Pipeline\n",
    "\n",
    "# Define evaluation function\n",
    "def evaluate_model(model, X, y, cv=3):\n",
    "    return np.mean(cross_val_score(model, X, y, cv=cv, scoring='r2'))\n"
   ]
  },
  {
   "cell_type": "code",
   "execution_count": null,
   "id": "5b6163db",
   "metadata": {},
   "outputs": [],
   "source": [
    "import random\n",
    "\n",
    "def aco_rf(X, y, n_ants=10, n_iter=20):\n",
    "    # Search space for RandomForest hyperparameters\n",
    "    max_depth_options = [5, 10, 15, 20, None]\n",
    "    n_estimators_options = [50, 100, 200, 300]\n",
    "    min_samples_split_options = [2, 5, 10]\n",
    "\n",
    "    best_score = -np.inf\n",
    "    best_params = None\n",
    "\n",
    "    for _ in range(n_iter):\n",
    "        for _ in range(n_ants):\n",
    "            params = {\n",
    "                \"max_depth\": random.choice(max_depth_options),\n",
    "                \"n_estimators\": random.choice(n_estimators_options),\n",
    "                \"min_samples_split\": random.choice(min_samples_split_options),\n",
    "                \"random_state\": 42\n",
    "            }\n",
    "            model = MultiOutputRegressor(RandomForestRegressor(**params))\n",
    "            score = evaluate_model(model, X, y)\n",
    "            if score > best_score:\n",
    "                best_score = score\n",
    "                best_params = params\n",
    "    return best_params, best_score\n",
    "\n",
    "best_rf_params, best_rf_score = aco_rf(X_transformed, y)"
   ]
  },
  {
   "cell_type": "code",
   "execution_count": 37,
   "id": "e52c0bad",
   "metadata": {},
   "outputs": [],
   "source": [
    "import mlrose_hiive\n",
    "\n",
    "# Define fitness function for MLP R2\n",
    "class MLPFitness:\n",
    "    def __init__(self, X, y):\n",
    "        self.X = X\n",
    "        self.y = y\n",
    "\n",
    "        def evaluate(self, state):\n",
    "            hidden_layer_sizes = (state[0], state[1])\n",
    "            alpha = 10.0 ** (-state[2])  # Use float base\n",
    "            model = MultiOutputRegressor(MLPRegressor(hidden_layer_sizes=hidden_layer_sizes,\n",
    "                                                    alpha=alpha,\n",
    "                                                    max_iter=500,\n",
    "                                                    random_state=42))\n",
    "        return -evaluate_model(model, self.X, self.y)  # negative because mlrose minimizes\n",
    "\n",
    "# Define the problem\n",
    "# Define the problem\n",
    "fitness = mlrose_hiive.CustomFitness(lambda state: MLPFitness(X_transformed, y).evaluate(state))\n",
    "problem = mlrose_hiive.DiscreteOpt(length=3, fitness_fn=fitness, maximize=False, max_val=256)\n",
    "\n",
    "best_state, best_fitness = mlrose_hiive.simulated_annealing(problem, max_attempts=10, max_iters=50, random_state=42)"
   ]
  },
  {
   "cell_type": "code",
   "execution_count": 36,
   "id": "afb752c3",
   "metadata": {},
   "outputs": [],
   "source": [
    "from sklearn.ensemble import VotingRegressor\n",
    "\n",
    "# Optimized base models\n",
    "rf_optimized = MultiOutputRegressor(RandomForestRegressor(**best_rf_params))\n",
    "mlp_optimized = MultiOutputRegressor(MLPRegressor(hidden_layer_sizes=(best_state[0], best_state[1]),\n",
    "                                                   alpha=10**(-best_state[2]),\n",
    "                                                   max_iter=500,\n",
    "                                                   random_state=42))\n",
    "\n",
    "# Train models on full transformed data\n",
    "rf_optimized.fit(X_transformed, y)\n",
    "mlp_optimized.fit(X_transformed, y)\n",
    "\n",
    "# VotingRegressor\n",
    "voting_estimators = [(\"rf\", rf_optimized), (\"mlp\", mlp_optimized)]\n",
    "voting = VotingRegressor(estimators=voting_estimators)\n",
    "voting.fit(X_transformed, y)"
   ]
  },
  {
   "cell_type": "code",
   "execution_count": null,
   "id": "16717fb5",
   "metadata": {},
   "outputs": [
    {
     "name": "stdout",
     "output_type": "stream",
     "text": [
      "                       Model      MAE     RMSE       R2  Adjusted R2\n",
      "0               RandomForest  0.07909  0.20150  0.86417      0.86402\n",
      "1                    XGBoost  0.15084  0.35321  0.76576      0.76550\n",
      "2                   LightGBM  0.17299  0.40392  0.50136      0.50081\n",
      "3                        MLP  0.08623  0.19223  0.80468      0.80447\n",
      "4            Voting Ensemble  0.02547  0.06231  0.96665      0.96634\n",
      "5  Optimized Voting Ensemble  0.00253  0.00693  0.99925      0.99961\n"
     ]
    }
   ],
   "source": [
    "# Append optimized Voting Ensemble results\n",
    "results.append([\n",
    "    \"Optimized Voting Ensemble\",\n",
    "    round(mae, 5),\n",
    "    round(rmse, 5),\n",
    "    round(r2, 5),\n",
    "    round(adj_r2, 5)\n",
    "])\n",
    "\n",
    "# Convert to DataFrame to display\n",
    "results_df = pd.DataFrame(results, columns=[\"Model\",\"MAE\",\"RMSE\",\"R2\",\"Adjusted R2\"])\n",
    "print(results_df)\n"
   ]
  },
  {
   "cell_type": "code",
   "execution_count": null,
   "id": "c114ab87",
   "metadata": {},
   "outputs": [
    {
     "name": "stdout",
     "output_type": "stream",
     "text": [
      "Model saved successfully as 'voting_ensemble_model.pkl'\n"
     ]
    }
   ],
   "source": [
    "import joblib\n",
    "\n",
    "# Save the complete model components\n",
    "model_data = {\n",
    "    'voting_estimators': voting_estimators,\n",
    "    'preprocessor': pipelines[\"RandomForest\"].named_steps[\"preprocessor\"],\n",
    "    'feature_names': X.columns.tolist(),\n",
    "    'target_names': y.columns.tolist()\n",
    "}\n",
    "\n",
    "# Save to a single file\n",
    "joblib.dump(model_data, 'voting.pkl')\n",
    "\n",
    "print(\"Model saved successfully as 'voting_ensemble_model.pkl'\")"
   ]
  },
  {
   "cell_type": "code",
   "execution_count": 32,
   "id": "20586c6b",
   "metadata": {},
   "outputs": [
    {
     "data": {
      "application/vnd.plotly.v1+json": {
       "config": {
        "plotlyServerURL": "https://plot.ly"
       },
       "data": [
        {
         "marker": {
          "color": "#636EFA"
         },
         "name": "MAE",
         "text": {
          "bdata": "yM1wAz4/tD+t3XahuU7DPzF8REyJJMY/3h/vVSsTtj+i0R3EzhSaP7a+SGjLuWQ/",
          "dtype": "f8"
         },
         "textposition": "auto",
         "type": "bar",
         "x": [
          "RandomForest",
          "XGBoost",
          "LightGBM",
          "MLP",
          "Voting Ensemble",
          "Optimized Voting Ensemble"
         ],
         "y": {
          "bdata": "yM1wAz4/tD+t3XahuU7DPzF8REyJJMY/3h/vVSsTtj+i0R3EzhSaP7a+SGjLuWQ/",
          "dtype": "f8"
         }
        },
        {
         "marker": {
          "color": "#EF553B"
         },
         "name": "RMSE",
         "text": {
          "bdata": "mG4Sg8DKyT+0sKcd/prWPwvSjEXT2dk/tLCnHf6ayD/zcW2oGOevP4rNx7WhYnw/",
          "dtype": "f8"
         },
         "textposition": "auto",
         "type": "bar",
         "x": [
          "RandomForest",
          "XGBoost",
          "LightGBM",
          "MLP",
          "Voting Ensemble",
          "Optimized Voting Ensemble"
         ],
         "y": {
          "bdata": "mG4Sg8DKyT+0sKcd/prWPwvSjEXT2dk/tLCnHf6ayD/zcW2oGOevP4rNx7WhYnw/",
          "dtype": "f8"
         }
        },
        {
         "marker": {
          "color": "#00CC96"
         },
         "name": "R2",
         "text": {
          "bdata": "8+UF2Een6z/+t5IdG4HoP9C4cCAkC+A/Vdl3RfC/6T90tRX7y+7uP2Dl0CLb+e8/",
          "dtype": "f8"
         },
         "textposition": "auto",
         "type": "bar",
         "x": [
          "RandomForest",
          "XGBoost",
          "LightGBM",
          "MLP",
          "Voting Ensemble",
          "Optimized Voting Ensemble"
         ],
         "y": {
          "bdata": "8+UF2Een6z/+t5IdG4HoP9C4cCAkC+A/Vdl3RfC/6T90tRX7y+7uP2Dl0CLb+e8/",
          "dtype": "f8"
         }
        },
        {
         "marker": {
          "color": "#AB63FA"
         },
         "name": "Adjusted R2",
         "text": {
          "bdata": "oOBiRQ2m6z/l0CLb+X7oP/RPcLGiBuA/rp6T3je+6T/qIRrdQezuP1slWBzO/O8/",
          "dtype": "f8"
         },
         "textposition": "auto",
         "type": "bar",
         "x": [
          "RandomForest",
          "XGBoost",
          "LightGBM",
          "MLP",
          "Voting Ensemble",
          "Optimized Voting Ensemble"
         ],
         "y": {
          "bdata": "oOBiRQ2m6z/l0CLb+X7oP/RPcLGiBuA/rp6T3je+6T/qIRrdQezuP1slWBzO/O8/",
          "dtype": "f8"
         }
        }
       ],
       "layout": {
        "barmode": "group",
        "height": 600,
        "template": {
         "data": {
          "bar": [
           {
            "error_x": {
             "color": "#2a3f5f"
            },
            "error_y": {
             "color": "#2a3f5f"
            },
            "marker": {
             "line": {
              "color": "white",
              "width": 0.5
             },
             "pattern": {
              "fillmode": "overlay",
              "size": 10,
              "solidity": 0.2
             }
            },
            "type": "bar"
           }
          ],
          "barpolar": [
           {
            "marker": {
             "line": {
              "color": "white",
              "width": 0.5
             },
             "pattern": {
              "fillmode": "overlay",
              "size": 10,
              "solidity": 0.2
             }
            },
            "type": "barpolar"
           }
          ],
          "carpet": [
           {
            "aaxis": {
             "endlinecolor": "#2a3f5f",
             "gridcolor": "#C8D4E3",
             "linecolor": "#C8D4E3",
             "minorgridcolor": "#C8D4E3",
             "startlinecolor": "#2a3f5f"
            },
            "baxis": {
             "endlinecolor": "#2a3f5f",
             "gridcolor": "#C8D4E3",
             "linecolor": "#C8D4E3",
             "minorgridcolor": "#C8D4E3",
             "startlinecolor": "#2a3f5f"
            },
            "type": "carpet"
           }
          ],
          "choropleth": [
           {
            "colorbar": {
             "outlinewidth": 0,
             "ticks": ""
            },
            "type": "choropleth"
           }
          ],
          "contour": [
           {
            "colorbar": {
             "outlinewidth": 0,
             "ticks": ""
            },
            "colorscale": [
             [
              0,
              "#0d0887"
             ],
             [
              0.1111111111111111,
              "#46039f"
             ],
             [
              0.2222222222222222,
              "#7201a8"
             ],
             [
              0.3333333333333333,
              "#9c179e"
             ],
             [
              0.4444444444444444,
              "#bd3786"
             ],
             [
              0.5555555555555556,
              "#d8576b"
             ],
             [
              0.6666666666666666,
              "#ed7953"
             ],
             [
              0.7777777777777778,
              "#fb9f3a"
             ],
             [
              0.8888888888888888,
              "#fdca26"
             ],
             [
              1,
              "#f0f921"
             ]
            ],
            "type": "contour"
           }
          ],
          "contourcarpet": [
           {
            "colorbar": {
             "outlinewidth": 0,
             "ticks": ""
            },
            "type": "contourcarpet"
           }
          ],
          "heatmap": [
           {
            "colorbar": {
             "outlinewidth": 0,
             "ticks": ""
            },
            "colorscale": [
             [
              0,
              "#0d0887"
             ],
             [
              0.1111111111111111,
              "#46039f"
             ],
             [
              0.2222222222222222,
              "#7201a8"
             ],
             [
              0.3333333333333333,
              "#9c179e"
             ],
             [
              0.4444444444444444,
              "#bd3786"
             ],
             [
              0.5555555555555556,
              "#d8576b"
             ],
             [
              0.6666666666666666,
              "#ed7953"
             ],
             [
              0.7777777777777778,
              "#fb9f3a"
             ],
             [
              0.8888888888888888,
              "#fdca26"
             ],
             [
              1,
              "#f0f921"
             ]
            ],
            "type": "heatmap"
           }
          ],
          "histogram": [
           {
            "marker": {
             "pattern": {
              "fillmode": "overlay",
              "size": 10,
              "solidity": 0.2
             }
            },
            "type": "histogram"
           }
          ],
          "histogram2d": [
           {
            "colorbar": {
             "outlinewidth": 0,
             "ticks": ""
            },
            "colorscale": [
             [
              0,
              "#0d0887"
             ],
             [
              0.1111111111111111,
              "#46039f"
             ],
             [
              0.2222222222222222,
              "#7201a8"
             ],
             [
              0.3333333333333333,
              "#9c179e"
             ],
             [
              0.4444444444444444,
              "#bd3786"
             ],
             [
              0.5555555555555556,
              "#d8576b"
             ],
             [
              0.6666666666666666,
              "#ed7953"
             ],
             [
              0.7777777777777778,
              "#fb9f3a"
             ],
             [
              0.8888888888888888,
              "#fdca26"
             ],
             [
              1,
              "#f0f921"
             ]
            ],
            "type": "histogram2d"
           }
          ],
          "histogram2dcontour": [
           {
            "colorbar": {
             "outlinewidth": 0,
             "ticks": ""
            },
            "colorscale": [
             [
              0,
              "#0d0887"
             ],
             [
              0.1111111111111111,
              "#46039f"
             ],
             [
              0.2222222222222222,
              "#7201a8"
             ],
             [
              0.3333333333333333,
              "#9c179e"
             ],
             [
              0.4444444444444444,
              "#bd3786"
             ],
             [
              0.5555555555555556,
              "#d8576b"
             ],
             [
              0.6666666666666666,
              "#ed7953"
             ],
             [
              0.7777777777777778,
              "#fb9f3a"
             ],
             [
              0.8888888888888888,
              "#fdca26"
             ],
             [
              1,
              "#f0f921"
             ]
            ],
            "type": "histogram2dcontour"
           }
          ],
          "mesh3d": [
           {
            "colorbar": {
             "outlinewidth": 0,
             "ticks": ""
            },
            "type": "mesh3d"
           }
          ],
          "parcoords": [
           {
            "line": {
             "colorbar": {
              "outlinewidth": 0,
              "ticks": ""
             }
            },
            "type": "parcoords"
           }
          ],
          "pie": [
           {
            "automargin": true,
            "type": "pie"
           }
          ],
          "scatter": [
           {
            "fillpattern": {
             "fillmode": "overlay",
             "size": 10,
             "solidity": 0.2
            },
            "type": "scatter"
           }
          ],
          "scatter3d": [
           {
            "line": {
             "colorbar": {
              "outlinewidth": 0,
              "ticks": ""
             }
            },
            "marker": {
             "colorbar": {
              "outlinewidth": 0,
              "ticks": ""
             }
            },
            "type": "scatter3d"
           }
          ],
          "scattercarpet": [
           {
            "marker": {
             "colorbar": {
              "outlinewidth": 0,
              "ticks": ""
             }
            },
            "type": "scattercarpet"
           }
          ],
          "scattergeo": [
           {
            "marker": {
             "colorbar": {
              "outlinewidth": 0,
              "ticks": ""
             }
            },
            "type": "scattergeo"
           }
          ],
          "scattergl": [
           {
            "marker": {
             "colorbar": {
              "outlinewidth": 0,
              "ticks": ""
             }
            },
            "type": "scattergl"
           }
          ],
          "scattermap": [
           {
            "marker": {
             "colorbar": {
              "outlinewidth": 0,
              "ticks": ""
             }
            },
            "type": "scattermap"
           }
          ],
          "scattermapbox": [
           {
            "marker": {
             "colorbar": {
              "outlinewidth": 0,
              "ticks": ""
             }
            },
            "type": "scattermapbox"
           }
          ],
          "scatterpolar": [
           {
            "marker": {
             "colorbar": {
              "outlinewidth": 0,
              "ticks": ""
             }
            },
            "type": "scatterpolar"
           }
          ],
          "scatterpolargl": [
           {
            "marker": {
             "colorbar": {
              "outlinewidth": 0,
              "ticks": ""
             }
            },
            "type": "scatterpolargl"
           }
          ],
          "scatterternary": [
           {
            "marker": {
             "colorbar": {
              "outlinewidth": 0,
              "ticks": ""
             }
            },
            "type": "scatterternary"
           }
          ],
          "surface": [
           {
            "colorbar": {
             "outlinewidth": 0,
             "ticks": ""
            },
            "colorscale": [
             [
              0,
              "#0d0887"
             ],
             [
              0.1111111111111111,
              "#46039f"
             ],
             [
              0.2222222222222222,
              "#7201a8"
             ],
             [
              0.3333333333333333,
              "#9c179e"
             ],
             [
              0.4444444444444444,
              "#bd3786"
             ],
             [
              0.5555555555555556,
              "#d8576b"
             ],
             [
              0.6666666666666666,
              "#ed7953"
             ],
             [
              0.7777777777777778,
              "#fb9f3a"
             ],
             [
              0.8888888888888888,
              "#fdca26"
             ],
             [
              1,
              "#f0f921"
             ]
            ],
            "type": "surface"
           }
          ],
          "table": [
           {
            "cells": {
             "fill": {
              "color": "#EBF0F8"
             },
             "line": {
              "color": "white"
             }
            },
            "header": {
             "fill": {
              "color": "#C8D4E3"
             },
             "line": {
              "color": "white"
             }
            },
            "type": "table"
           }
          ]
         },
         "layout": {
          "annotationdefaults": {
           "arrowcolor": "#2a3f5f",
           "arrowhead": 0,
           "arrowwidth": 1
          },
          "autotypenumbers": "strict",
          "coloraxis": {
           "colorbar": {
            "outlinewidth": 0,
            "ticks": ""
           }
          },
          "colorscale": {
           "diverging": [
            [
             0,
             "#8e0152"
            ],
            [
             0.1,
             "#c51b7d"
            ],
            [
             0.2,
             "#de77ae"
            ],
            [
             0.3,
             "#f1b6da"
            ],
            [
             0.4,
             "#fde0ef"
            ],
            [
             0.5,
             "#f7f7f7"
            ],
            [
             0.6,
             "#e6f5d0"
            ],
            [
             0.7,
             "#b8e186"
            ],
            [
             0.8,
             "#7fbc41"
            ],
            [
             0.9,
             "#4d9221"
            ],
            [
             1,
             "#276419"
            ]
           ],
           "sequential": [
            [
             0,
             "#0d0887"
            ],
            [
             0.1111111111111111,
             "#46039f"
            ],
            [
             0.2222222222222222,
             "#7201a8"
            ],
            [
             0.3333333333333333,
             "#9c179e"
            ],
            [
             0.4444444444444444,
             "#bd3786"
            ],
            [
             0.5555555555555556,
             "#d8576b"
            ],
            [
             0.6666666666666666,
             "#ed7953"
            ],
            [
             0.7777777777777778,
             "#fb9f3a"
            ],
            [
             0.8888888888888888,
             "#fdca26"
            ],
            [
             1,
             "#f0f921"
            ]
           ],
           "sequentialminus": [
            [
             0,
             "#0d0887"
            ],
            [
             0.1111111111111111,
             "#46039f"
            ],
            [
             0.2222222222222222,
             "#7201a8"
            ],
            [
             0.3333333333333333,
             "#9c179e"
            ],
            [
             0.4444444444444444,
             "#bd3786"
            ],
            [
             0.5555555555555556,
             "#d8576b"
            ],
            [
             0.6666666666666666,
             "#ed7953"
            ],
            [
             0.7777777777777778,
             "#fb9f3a"
            ],
            [
             0.8888888888888888,
             "#fdca26"
            ],
            [
             1,
             "#f0f921"
            ]
           ]
          },
          "colorway": [
           "#636efa",
           "#EF553B",
           "#00cc96",
           "#ab63fa",
           "#FFA15A",
           "#19d3f3",
           "#FF6692",
           "#B6E880",
           "#FF97FF",
           "#FECB52"
          ],
          "font": {
           "color": "#2a3f5f"
          },
          "geo": {
           "bgcolor": "white",
           "lakecolor": "white",
           "landcolor": "white",
           "showlakes": true,
           "showland": true,
           "subunitcolor": "#C8D4E3"
          },
          "hoverlabel": {
           "align": "left"
          },
          "hovermode": "closest",
          "mapbox": {
           "style": "light"
          },
          "paper_bgcolor": "white",
          "plot_bgcolor": "white",
          "polar": {
           "angularaxis": {
            "gridcolor": "#EBF0F8",
            "linecolor": "#EBF0F8",
            "ticks": ""
           },
           "bgcolor": "white",
           "radialaxis": {
            "gridcolor": "#EBF0F8",
            "linecolor": "#EBF0F8",
            "ticks": ""
           }
          },
          "scene": {
           "xaxis": {
            "backgroundcolor": "white",
            "gridcolor": "#DFE8F3",
            "gridwidth": 2,
            "linecolor": "#EBF0F8",
            "showbackground": true,
            "ticks": "",
            "zerolinecolor": "#EBF0F8"
           },
           "yaxis": {
            "backgroundcolor": "white",
            "gridcolor": "#DFE8F3",
            "gridwidth": 2,
            "linecolor": "#EBF0F8",
            "showbackground": true,
            "ticks": "",
            "zerolinecolor": "#EBF0F8"
           },
           "zaxis": {
            "backgroundcolor": "white",
            "gridcolor": "#DFE8F3",
            "gridwidth": 2,
            "linecolor": "#EBF0F8",
            "showbackground": true,
            "ticks": "",
            "zerolinecolor": "#EBF0F8"
           }
          },
          "shapedefaults": {
           "line": {
            "color": "#2a3f5f"
           }
          },
          "ternary": {
           "aaxis": {
            "gridcolor": "#DFE8F3",
            "linecolor": "#A2B1C6",
            "ticks": ""
           },
           "baxis": {
            "gridcolor": "#DFE8F3",
            "linecolor": "#A2B1C6",
            "ticks": ""
           },
           "bgcolor": "white",
           "caxis": {
            "gridcolor": "#DFE8F3",
            "linecolor": "#A2B1C6",
            "ticks": ""
           }
          },
          "title": {
           "x": 0.05
          },
          "xaxis": {
           "automargin": true,
           "gridcolor": "#EBF0F8",
           "linecolor": "#EBF0F8",
           "ticks": "",
           "title": {
            "standoff": 15
           },
           "zerolinecolor": "#EBF0F8",
           "zerolinewidth": 2
          },
          "yaxis": {
           "automargin": true,
           "gridcolor": "#EBF0F8",
           "linecolor": "#EBF0F8",
           "ticks": "",
           "title": {
            "standoff": 15
           },
           "zerolinecolor": "#EBF0F8",
           "zerolinewidth": 2
          }
         }
        },
        "title": {
         "text": "Model Performance Comparison"
        },
        "width": 1100,
        "xaxis": {
         "title": {
          "text": "Model"
         }
        },
        "yaxis": {
         "title": {
          "text": "Metric Value"
         }
        }
       }
      }
     },
     "metadata": {},
     "output_type": "display_data"
    }
   ],
   "source": [
    "import plotly.graph_objects as go\n",
    "\n",
    "# Create a bar chart for each metric\n",
    "fig = go.Figure()\n",
    "\n",
    "# Metrics to plot\n",
    "metrics = [\"MAE\", \"RMSE\", \"R2\", \"Adjusted R2\"]\n",
    "colors = [\"#636EFA\", \"#EF553B\", \"#00CC96\", \"#AB63FA\"]\n",
    "\n",
    "for i, metric in enumerate(metrics):\n",
    "    fig.add_trace(go.Bar(\n",
    "        x=results_df[\"Model\"],\n",
    "        y=results_df[metric],\n",
    "        name=metric,\n",
    "        marker_color=colors[i],\n",
    "        text=results_df[metric],\n",
    "        textposition='auto'\n",
    "    ))\n",
    "\n",
    "# Update layout\n",
    "fig.update_layout(\n",
    "    title=\"Model Performance Comparison\",\n",
    "    xaxis_title=\"Model\",\n",
    "    yaxis_title=\"Metric Value\",\n",
    "    barmode='group',  # side by side\n",
    "    template=\"plotly_white\",\n",
    "    width=1100,\n",
    "    height=600\n",
    ")\n",
    "\n",
    "fig.show()\n"
   ]
  },
  {
   "cell_type": "code",
   "execution_count": 3,
   "id": "8b41a5a9",
   "metadata": {},
   "outputs": [
    {
     "data": {
      "text/html": [
       "<div>\n",
       "<style scoped>\n",
       "    .dataframe tbody tr th:only-of-type {\n",
       "        vertical-align: middle;\n",
       "    }\n",
       "\n",
       "    .dataframe tbody tr th {\n",
       "        vertical-align: top;\n",
       "    }\n",
       "\n",
       "    .dataframe thead th {\n",
       "        text-align: right;\n",
       "    }\n",
       "</style>\n",
       "<table border=\"1\" class=\"dataframe\">\n",
       "  <thead>\n",
       "    <tr style=\"text-align: right;\">\n",
       "      <th></th>\n",
       "      <th>ID</th>\n",
       "      <th>Industry</th>\n",
       "      <th>Company</th>\n",
       "      <th>Opportunity</th>\n",
       "      <th>Candidate</th>\n",
       "      <th>Gender</th>\n",
       "      <th>Age</th>\n",
       "      <th>Race</th>\n",
       "      <th>Institution</th>\n",
       "      <th>Aggregate</th>\n",
       "      <th>Qualification</th>\n",
       "      <th>Disciplines</th>\n",
       "      <th>NumCandidates</th>\n",
       "    </tr>\n",
       "  </thead>\n",
       "  <tbody>\n",
       "    <tr>\n",
       "      <th>0</th>\n",
       "      <td>0</td>\n",
       "      <td>Legal</td>\n",
       "      <td>Client A</td>\n",
       "      <td>1</td>\n",
       "      <td>1</td>\n",
       "      <td>Female</td>\n",
       "      <td>23</td>\n",
       "      <td>White</td>\n",
       "      <td>Stellenbosch University</td>\n",
       "      <td>70</td>\n",
       "      <td>Bachelor of Arts</td>\n",
       "      <td>Law</td>\n",
       "      <td>3453</td>\n",
       "    </tr>\n",
       "    <tr>\n",
       "      <th>1</th>\n",
       "      <td>1</td>\n",
       "      <td>Legal</td>\n",
       "      <td>Client B</td>\n",
       "      <td>2</td>\n",
       "      <td>2</td>\n",
       "      <td>Male</td>\n",
       "      <td>25</td>\n",
       "      <td>Black</td>\n",
       "      <td>University of the Western Cape</td>\n",
       "      <td>66</td>\n",
       "      <td>Bachelor of Laws</td>\n",
       "      <td>Law</td>\n",
       "      <td>1443</td>\n",
       "    </tr>\n",
       "    <tr>\n",
       "      <th>2</th>\n",
       "      <td>2</td>\n",
       "      <td>Legal</td>\n",
       "      <td>Client A</td>\n",
       "      <td>1</td>\n",
       "      <td>3</td>\n",
       "      <td>Male</td>\n",
       "      <td>23</td>\n",
       "      <td>Coloured</td>\n",
       "      <td>University of the Western Cape</td>\n",
       "      <td>67</td>\n",
       "      <td>Bachelor of Laws</td>\n",
       "      <td>Law</td>\n",
       "      <td>3453</td>\n",
       "    </tr>\n",
       "    <tr>\n",
       "      <th>3</th>\n",
       "      <td>3</td>\n",
       "      <td>Legal</td>\n",
       "      <td>Client B</td>\n",
       "      <td>2</td>\n",
       "      <td>7</td>\n",
       "      <td>Male</td>\n",
       "      <td>22</td>\n",
       "      <td>Black</td>\n",
       "      <td>University of Limpopo</td>\n",
       "      <td>70</td>\n",
       "      <td>Bachelor of Laws</td>\n",
       "      <td>Law</td>\n",
       "      <td>1443</td>\n",
       "    </tr>\n",
       "    <tr>\n",
       "      <th>4</th>\n",
       "      <td>4</td>\n",
       "      <td>Legal</td>\n",
       "      <td>Client B</td>\n",
       "      <td>2</td>\n",
       "      <td>8</td>\n",
       "      <td>Male</td>\n",
       "      <td>27</td>\n",
       "      <td>Black</td>\n",
       "      <td>Stellenbosch University</td>\n",
       "      <td>70</td>\n",
       "      <td>Master of Laws</td>\n",
       "      <td>Law</td>\n",
       "      <td>1443</td>\n",
       "    </tr>\n",
       "    <tr>\n",
       "      <th>...</th>\n",
       "      <td>...</td>\n",
       "      <td>...</td>\n",
       "      <td>...</td>\n",
       "      <td>...</td>\n",
       "      <td>...</td>\n",
       "      <td>...</td>\n",
       "      <td>...</td>\n",
       "      <td>...</td>\n",
       "      <td>...</td>\n",
       "      <td>...</td>\n",
       "      <td>...</td>\n",
       "      <td>...</td>\n",
       "      <td>...</td>\n",
       "    </tr>\n",
       "    <tr>\n",
       "      <th>34507</th>\n",
       "      <td>34507</td>\n",
       "      <td>Legal</td>\n",
       "      <td>Client A</td>\n",
       "      <td>1</td>\n",
       "      <td>36204</td>\n",
       "      <td>Female</td>\n",
       "      <td>22</td>\n",
       "      <td>Black</td>\n",
       "      <td>University of Johannesburg</td>\n",
       "      <td>70</td>\n",
       "      <td>Bachelor of Laws</td>\n",
       "      <td>Law</td>\n",
       "      <td>3453</td>\n",
       "    </tr>\n",
       "    <tr>\n",
       "      <th>34508</th>\n",
       "      <td>34508</td>\n",
       "      <td>Legal</td>\n",
       "      <td>Client A</td>\n",
       "      <td>69</td>\n",
       "      <td>36183</td>\n",
       "      <td>Male</td>\n",
       "      <td>24</td>\n",
       "      <td>Black</td>\n",
       "      <td>University of South Africa</td>\n",
       "      <td>67</td>\n",
       "      <td>Bachelor of Laws</td>\n",
       "      <td>Law</td>\n",
       "      <td>3176</td>\n",
       "    </tr>\n",
       "    <tr>\n",
       "      <th>34509</th>\n",
       "      <td>34509</td>\n",
       "      <td>Legal</td>\n",
       "      <td>Client J</td>\n",
       "      <td>24</td>\n",
       "      <td>2264</td>\n",
       "      <td>Female</td>\n",
       "      <td>27</td>\n",
       "      <td>Black</td>\n",
       "      <td>University of South Africa</td>\n",
       "      <td>77</td>\n",
       "      <td>Bachelor of Laws</td>\n",
       "      <td>Law</td>\n",
       "      <td>1180</td>\n",
       "    </tr>\n",
       "    <tr>\n",
       "      <th>34510</th>\n",
       "      <td>34510</td>\n",
       "      <td>Legal</td>\n",
       "      <td>Client E</td>\n",
       "      <td>8</td>\n",
       "      <td>2264</td>\n",
       "      <td>Female</td>\n",
       "      <td>25</td>\n",
       "      <td>Black</td>\n",
       "      <td>University of South Africa</td>\n",
       "      <td>77</td>\n",
       "      <td>Bachelor of Laws</td>\n",
       "      <td>Law</td>\n",
       "      <td>3319</td>\n",
       "    </tr>\n",
       "    <tr>\n",
       "      <th>34511</th>\n",
       "      <td>34511</td>\n",
       "      <td>Legal</td>\n",
       "      <td>Client A</td>\n",
       "      <td>7</td>\n",
       "      <td>12813</td>\n",
       "      <td>Female</td>\n",
       "      <td>25</td>\n",
       "      <td>Coloured</td>\n",
       "      <td>University of the Witwatersrand</td>\n",
       "      <td>65</td>\n",
       "      <td>Bachelor of Laws</td>\n",
       "      <td>Law</td>\n",
       "      <td>3323</td>\n",
       "    </tr>\n",
       "  </tbody>\n",
       "</table>\n",
       "<p>34512 rows × 13 columns</p>\n",
       "</div>"
      ],
      "text/plain": [
       "          ID Industry   Company  Opportunity  Candidate  Gender  Age  \\\n",
       "0          0    Legal  Client A            1          1  Female   23   \n",
       "1          1    Legal  Client B            2          2    Male   25   \n",
       "2          2    Legal  Client A            1          3    Male   23   \n",
       "3          3    Legal  Client B            2          7    Male   22   \n",
       "4          4    Legal  Client B            2          8    Male   27   \n",
       "...      ...      ...       ...          ...        ...     ...  ...   \n",
       "34507  34507    Legal  Client A            1      36204  Female   22   \n",
       "34508  34508    Legal  Client A           69      36183    Male   24   \n",
       "34509  34509    Legal  Client J           24       2264  Female   27   \n",
       "34510  34510    Legal  Client E            8       2264  Female   25   \n",
       "34511  34511    Legal  Client A            7      12813  Female   25   \n",
       "\n",
       "           Race                      Institution  Aggregate     Qualification  \\\n",
       "0         White          Stellenbosch University         70  Bachelor of Arts   \n",
       "1         Black   University of the Western Cape         66  Bachelor of Laws   \n",
       "2      Coloured   University of the Western Cape         67  Bachelor of Laws   \n",
       "3         Black            University of Limpopo         70  Bachelor of Laws   \n",
       "4         Black          Stellenbosch University         70    Master of Laws   \n",
       "...         ...                              ...        ...               ...   \n",
       "34507     Black       University of Johannesburg         70  Bachelor of Laws   \n",
       "34508     Black       University of South Africa         67  Bachelor of Laws   \n",
       "34509     Black       University of South Africa         77  Bachelor of Laws   \n",
       "34510     Black       University of South Africa         77  Bachelor of Laws   \n",
       "34511  Coloured  University of the Witwatersrand         65  Bachelor of Laws   \n",
       "\n",
       "      Disciplines  NumCandidates  \n",
       "0             Law           3453  \n",
       "1             Law           1443  \n",
       "2             Law           3453  \n",
       "3             Law           1443  \n",
       "4             Law           1443  \n",
       "...           ...            ...  \n",
       "34507         Law           3453  \n",
       "34508         Law           3176  \n",
       "34509         Law           1180  \n",
       "34510         Law           3319  \n",
       "34511         Law           3323  \n",
       "\n",
       "[34512 rows x 13 columns]"
      ]
     },
     "execution_count": 3,
     "metadata": {},
     "output_type": "execute_result"
    }
   ],
   "source": [
    "dt_test"
   ]
  },
  {
   "cell_type": "code",
   "execution_count": 5,
   "id": "7ce6b4b6",
   "metadata": {},
   "outputs": [],
   "source": [
    "import joblib\n",
    "import pandas as pd\n",
    "import numpy as np\n",
    "\n",
    "# Load the saved voting ensemble\n",
    "model_data = joblib.load('voting_ensemble_model.pkl')\n",
    "\n",
    "voting_estimators = model_data['voting_estimators']\n",
    "preprocessor = model_data['preprocessor']\n",
    "feature_names = model_data['feature_names']\n",
    "target_names = model_data['target_names']\n"
   ]
  },
  {
   "cell_type": "code",
   "execution_count": 6,
   "id": "30c5be88",
   "metadata": {},
   "outputs": [],
   "source": [
    "# Select only feature columns used in training\n",
    "X_test = dt_test[feature_names]\n",
    "\n",
    "# Transform features using the saved preprocessor\n",
    "X_test_transformed = preprocessor.transform(X_test)\n",
    "\n",
    "# Ensure numeric (dense) array if needed\n",
    "if hasattr(X_test_transformed, \"toarray\"):\n",
    "    X_test_transformed = X_test_transformed.toarray()\n",
    "X_test_transformed = X_test_transformed.astype(float)\n"
   ]
  },
  {
   "cell_type": "code",
   "execution_count": 7,
   "id": "a5daf617",
   "metadata": {},
   "outputs": [],
   "source": [
    "# Select only feature columns used in training\n",
    "X_test = dt_test[feature_names]\n",
    "\n",
    "# Transform features using the saved preprocessor\n",
    "X_test_transformed = preprocessor.transform(X_test)\n",
    "\n",
    "# Ensure numeric (dense) array if needed\n",
    "if hasattr(X_test_transformed, \"toarray\"):\n",
    "    X_test_transformed = X_test_transformed.toarray()\n",
    "X_test_transformed = X_test_transformed.astype(float)\n"
   ]
  },
  {
   "cell_type": "code",
   "execution_count": 8,
   "id": "728669e7",
   "metadata": {},
   "outputs": [
    {
     "name": "stdout",
     "output_type": "stream",
     "text": [
      "   Successful  Progress\n",
      "0    0.018743  1.538332\n",
      "1    0.016730  1.166090\n",
      "2   -0.008359  2.174694\n",
      "3   -0.010188  0.937281\n",
      "4    0.075128  1.011457\n"
     ]
    }
   ],
   "source": [
    "# Predict for each target\n",
    "y_pred_test = np.column_stack([\n",
    "    voting_estimators[i].predict(X_test_transformed) for i in range(len(target_names))\n",
    "])\n",
    "\n",
    "# Convert to DataFrame with target names\n",
    "y_pred_df = pd.DataFrame(y_pred_test, columns=target_names)\n",
    "\n",
    "# Optional: show predictions\n",
    "print(y_pred_df.head())\n"
   ]
  },
  {
   "cell_type": "code",
   "execution_count": 9,
   "id": "f17250c4",
   "metadata": {},
   "outputs": [
    {
     "name": "stdout",
     "output_type": "stream",
     "text": [
      "First 5 predictions:\n",
      "   Successful  Progress\n",
      "0    0.018743  1.538332\n",
      "1    0.016730  1.166090\n",
      "2   -0.008359  2.174694\n",
      "3   -0.010188  0.937281\n",
      "4    0.075128  1.011457\n",
      "Predictions saved to 'voting_predictions.csv'\n"
     ]
    }
   ],
   "source": [
    "# Predict for each target\n",
    "y_pred_test = np.column_stack([\n",
    "    voting_estimators[i].predict(X_test_transformed) for i in range(len(target_names))\n",
    "])\n",
    "\n",
    "# Convert to DataFrame with target names\n",
    "y_pred_df = pd.DataFrame(y_pred_test, columns=target_names)\n",
    "\n",
    "# Display the first 5 predictions\n",
    "print(\"First 5 predictions:\")\n",
    "print(y_pred_df.head())\n",
    "\n",
    "# Save predictions to CSV\n",
    "y_pred_df.to_csv(\"voting_predictions.csv\", index=False)\n",
    "print(\"Predictions saved to 'voting_predictions.csv'\")\n"
   ]
  },
  {
   "cell_type": "code",
   "execution_count": 33,
   "id": "e53c1dd2",
   "metadata": {},
   "outputs": [
    {
     "name": "stdout",
     "output_type": "stream",
     "text": [
      "First 5 rows for submission:\n",
      "   ID  Progress\n",
      "0   0  1.538332\n",
      "1   1  1.166090\n",
      "2   2  2.174694\n",
      "3   3  0.937281\n",
      "4   4  1.011457\n",
      "Predictions saved to 'voting_predictions_progress.csv'\n"
     ]
    }
   ],
   "source": [
    "# Select only ID and the 'Progress' prediction\n",
    "submission_df = dt_test[['ID']].copy()\n",
    "submission_df['Progress'] = y_pred_df['Progress']\n",
    "\n",
    "# Display first 5 rows\n",
    "print(\"First 5 rows for submission:\")\n",
    "print(submission_df.head())\n",
    "\n",
    "# Save to CSV\n",
    "submission_df.to_csv(\"voting_predictions_progress.csv\", index=False)\n",
    "print(\"Predictions saved to 'voting_predictions_progress.csv'\")\n"
   ]
  },
  {
   "cell_type": "code",
   "execution_count": 31,
   "id": "37653039",
   "metadata": {},
   "outputs": [
    {
     "name": "stdout",
     "output_type": "stream",
     "text": [
      "Number of features after preprocessing: 1454\n"
     ]
    }
   ],
   "source": [
    "from sklearn.compose import ColumnTransformer\n",
    "\n",
    "def get_feature_names(preprocessor):\n",
    "    output_features = []\n",
    "\n",
    "    if isinstance(preprocessor, ColumnTransformer):\n",
    "        for name, transformer, columns in preprocessor.transformers_:\n",
    "            if transformer == 'drop':\n",
    "                continue\n",
    "            elif transformer == 'passthrough':\n",
    "                output_features.extend(columns)\n",
    "            else:\n",
    "                # Check if transformer has get_feature_names_out\n",
    "                try:\n",
    "                    names = transformer.get_feature_names_out(columns)\n",
    "                except:\n",
    "                    names = columns  # fallback\n",
    "                output_features.extend(names)\n",
    "    else:\n",
    "        output_features = X_test.columns  # fallback\n",
    "\n",
    "    return output_features\n",
    "\n",
    "feature_names_transformed = get_feature_names(preprocessor)\n",
    "print(\"Number of features after preprocessing:\", len(feature_names_transformed))\n"
   ]
  },
  {
   "cell_type": "code",
   "execution_count": 32,
   "id": "b04ee0f0",
   "metadata": {},
   "outputs": [
    {
     "ename": "ValueError",
     "evalue": "X has 1454 features, but RandomForestRegressor is expecting 731 features as input.",
     "output_type": "error",
     "traceback": [
      "\u001b[1;31m---------------------------------------------------------------------------\u001b[0m",
      "\u001b[1;31mValueError\u001b[0m                                Traceback (most recent call last)",
      "Cell \u001b[1;32mIn[32], line 12\u001b[0m\n\u001b[0;32m     10\u001b[0m i \u001b[38;5;241m=\u001b[39m \u001b[38;5;241m0\u001b[39m\n\u001b[0;32m     11\u001b[0m target_idx \u001b[38;5;241m=\u001b[39m \u001b[38;5;241m0\u001b[39m\n\u001b[1;32m---> 12\u001b[0m exp \u001b[38;5;241m=\u001b[39m \u001b[43mexplainer\u001b[49m\u001b[38;5;241;43m.\u001b[39;49m\u001b[43mexplain_instance\u001b[49m\u001b[43m(\u001b[49m\n\u001b[0;32m     13\u001b[0m \u001b[43m    \u001b[49m\u001b[43mdata_row\u001b[49m\u001b[38;5;241;43m=\u001b[39;49m\u001b[43mX_test_transformed\u001b[49m\u001b[43m[\u001b[49m\u001b[43mi\u001b[49m\u001b[43m]\u001b[49m\u001b[43m,\u001b[49m\n\u001b[0;32m     14\u001b[0m \u001b[43m    \u001b[49m\u001b[43mpredict_fn\u001b[49m\u001b[38;5;241;43m=\u001b[39;49m\u001b[43mvoting_estimators\u001b[49m\u001b[43m[\u001b[49m\u001b[43mtarget_idx\u001b[49m\u001b[43m]\u001b[49m\u001b[38;5;241;43m.\u001b[39;49m\u001b[43mpredict\u001b[49m\n\u001b[0;32m     15\u001b[0m \u001b[43m)\u001b[49m\n\u001b[0;32m     17\u001b[0m \u001b[38;5;66;03m# Show feature contributions\u001b[39;00m\n\u001b[0;32m     18\u001b[0m exp\u001b[38;5;241m.\u001b[39mshow_in_notebook(show_table\u001b[38;5;241m=\u001b[39m\u001b[38;5;28;01mTrue\u001b[39;00m)\n",
      "File \u001b[1;32m~\\AppData\\Local\\Packages\\PythonSoftwareFoundation.Python.3.10_qbz5n2kfra8p0\\LocalCache\\local-packages\\Python310\\site-packages\\lime\\lime_tabular.py:355\u001b[0m, in \u001b[0;36mLimeTabularExplainer.explain_instance\u001b[1;34m(self, data_row, predict_fn, labels, top_labels, num_features, num_samples, distance_metric, model_regressor)\u001b[0m\n\u001b[0;32m    348\u001b[0m     scaled_data \u001b[38;5;241m=\u001b[39m (data \u001b[38;5;241m-\u001b[39m \u001b[38;5;28mself\u001b[39m\u001b[38;5;241m.\u001b[39mscaler\u001b[38;5;241m.\u001b[39mmean_) \u001b[38;5;241m/\u001b[39m \u001b[38;5;28mself\u001b[39m\u001b[38;5;241m.\u001b[39mscaler\u001b[38;5;241m.\u001b[39mscale_\n\u001b[0;32m    349\u001b[0m distances \u001b[38;5;241m=\u001b[39m sklearn\u001b[38;5;241m.\u001b[39mmetrics\u001b[38;5;241m.\u001b[39mpairwise_distances(\n\u001b[0;32m    350\u001b[0m         scaled_data,\n\u001b[0;32m    351\u001b[0m         scaled_data[\u001b[38;5;241m0\u001b[39m]\u001b[38;5;241m.\u001b[39mreshape(\u001b[38;5;241m1\u001b[39m, \u001b[38;5;241m-\u001b[39m\u001b[38;5;241m1\u001b[39m),\n\u001b[0;32m    352\u001b[0m         metric\u001b[38;5;241m=\u001b[39mdistance_metric\n\u001b[0;32m    353\u001b[0m )\u001b[38;5;241m.\u001b[39mravel()\n\u001b[1;32m--> 355\u001b[0m yss \u001b[38;5;241m=\u001b[39m \u001b[43mpredict_fn\u001b[49m\u001b[43m(\u001b[49m\u001b[43minverse\u001b[49m\u001b[43m)\u001b[49m\n\u001b[0;32m    357\u001b[0m \u001b[38;5;66;03m# for classification, the model needs to provide a list of tuples - classes\u001b[39;00m\n\u001b[0;32m    358\u001b[0m \u001b[38;5;66;03m# along with prediction probabilities\u001b[39;00m\n\u001b[0;32m    359\u001b[0m \u001b[38;5;28;01mif\u001b[39;00m \u001b[38;5;28mself\u001b[39m\u001b[38;5;241m.\u001b[39mmode \u001b[38;5;241m==\u001b[39m \u001b[38;5;124m\"\u001b[39m\u001b[38;5;124mclassification\u001b[39m\u001b[38;5;124m\"\u001b[39m:\n",
      "File \u001b[1;32m~\\AppData\\Local\\Packages\\PythonSoftwareFoundation.Python.3.10_qbz5n2kfra8p0\\LocalCache\\local-packages\\Python310\\site-packages\\sklearn\\ensemble\\_voting.py:697\u001b[0m, in \u001b[0;36mVotingRegressor.predict\u001b[1;34m(self, X)\u001b[0m\n\u001b[0;32m    681\u001b[0m \u001b[38;5;250m\u001b[39m\u001b[38;5;124;03m\"\"\"Predict regression target for X.\u001b[39;00m\n\u001b[0;32m    682\u001b[0m \n\u001b[0;32m    683\u001b[0m \u001b[38;5;124;03mThe predicted regression target of an input sample is computed as the\u001b[39;00m\n\u001b[1;32m   (...)\u001b[0m\n\u001b[0;32m    694\u001b[0m \u001b[38;5;124;03m    The predicted values.\u001b[39;00m\n\u001b[0;32m    695\u001b[0m \u001b[38;5;124;03m\"\"\"\u001b[39;00m\n\u001b[0;32m    696\u001b[0m check_is_fitted(\u001b[38;5;28mself\u001b[39m)\n\u001b[1;32m--> 697\u001b[0m \u001b[38;5;28;01mreturn\u001b[39;00m np\u001b[38;5;241m.\u001b[39maverage(\u001b[38;5;28;43mself\u001b[39;49m\u001b[38;5;241;43m.\u001b[39;49m\u001b[43m_predict\u001b[49m\u001b[43m(\u001b[49m\u001b[43mX\u001b[49m\u001b[43m)\u001b[49m, axis\u001b[38;5;241m=\u001b[39m\u001b[38;5;241m1\u001b[39m, weights\u001b[38;5;241m=\u001b[39m\u001b[38;5;28mself\u001b[39m\u001b[38;5;241m.\u001b[39m_weights_not_none)\n",
      "File \u001b[1;32m~\\AppData\\Local\\Packages\\PythonSoftwareFoundation.Python.3.10_qbz5n2kfra8p0\\LocalCache\\local-packages\\Python310\\site-packages\\sklearn\\ensemble\\_voting.py:75\u001b[0m, in \u001b[0;36m_BaseVoting._predict\u001b[1;34m(self, X)\u001b[0m\n\u001b[0;32m     73\u001b[0m \u001b[38;5;28;01mdef\u001b[39;00m\u001b[38;5;250m \u001b[39m\u001b[38;5;21m_predict\u001b[39m(\u001b[38;5;28mself\u001b[39m, X):\n\u001b[0;32m     74\u001b[0m \u001b[38;5;250m    \u001b[39m\u001b[38;5;124;03m\"\"\"Collect results from clf.predict calls.\"\"\"\u001b[39;00m\n\u001b[1;32m---> 75\u001b[0m     \u001b[38;5;28;01mreturn\u001b[39;00m np\u001b[38;5;241m.\u001b[39masarray([est\u001b[38;5;241m.\u001b[39mpredict(X) \u001b[38;5;28;01mfor\u001b[39;00m est \u001b[38;5;129;01min\u001b[39;00m \u001b[38;5;28mself\u001b[39m\u001b[38;5;241m.\u001b[39mestimators_])\u001b[38;5;241m.\u001b[39mT\n",
      "File \u001b[1;32m~\\AppData\\Local\\Packages\\PythonSoftwareFoundation.Python.3.10_qbz5n2kfra8p0\\LocalCache\\local-packages\\Python310\\site-packages\\sklearn\\ensemble\\_voting.py:75\u001b[0m, in \u001b[0;36m<listcomp>\u001b[1;34m(.0)\u001b[0m\n\u001b[0;32m     73\u001b[0m \u001b[38;5;28;01mdef\u001b[39;00m\u001b[38;5;250m \u001b[39m\u001b[38;5;21m_predict\u001b[39m(\u001b[38;5;28mself\u001b[39m, X):\n\u001b[0;32m     74\u001b[0m \u001b[38;5;250m    \u001b[39m\u001b[38;5;124;03m\"\"\"Collect results from clf.predict calls.\"\"\"\u001b[39;00m\n\u001b[1;32m---> 75\u001b[0m     \u001b[38;5;28;01mreturn\u001b[39;00m np\u001b[38;5;241m.\u001b[39masarray([\u001b[43mest\u001b[49m\u001b[38;5;241;43m.\u001b[39;49m\u001b[43mpredict\u001b[49m\u001b[43m(\u001b[49m\u001b[43mX\u001b[49m\u001b[43m)\u001b[49m \u001b[38;5;28;01mfor\u001b[39;00m est \u001b[38;5;129;01min\u001b[39;00m \u001b[38;5;28mself\u001b[39m\u001b[38;5;241m.\u001b[39mestimators_])\u001b[38;5;241m.\u001b[39mT\n",
      "File \u001b[1;32m~\\AppData\\Local\\Packages\\PythonSoftwareFoundation.Python.3.10_qbz5n2kfra8p0\\LocalCache\\local-packages\\Python310\\site-packages\\sklearn\\ensemble\\_forest.py:1065\u001b[0m, in \u001b[0;36mForestRegressor.predict\u001b[1;34m(self, X)\u001b[0m\n\u001b[0;32m   1063\u001b[0m check_is_fitted(\u001b[38;5;28mself\u001b[39m)\n\u001b[0;32m   1064\u001b[0m \u001b[38;5;66;03m# Check data\u001b[39;00m\n\u001b[1;32m-> 1065\u001b[0m X \u001b[38;5;241m=\u001b[39m \u001b[38;5;28;43mself\u001b[39;49m\u001b[38;5;241;43m.\u001b[39;49m\u001b[43m_validate_X_predict\u001b[49m\u001b[43m(\u001b[49m\u001b[43mX\u001b[49m\u001b[43m)\u001b[49m\n\u001b[0;32m   1067\u001b[0m \u001b[38;5;66;03m# Assign chunk of trees to jobs\u001b[39;00m\n\u001b[0;32m   1068\u001b[0m n_jobs, _, _ \u001b[38;5;241m=\u001b[39m _partition_estimators(\u001b[38;5;28mself\u001b[39m\u001b[38;5;241m.\u001b[39mn_estimators, \u001b[38;5;28mself\u001b[39m\u001b[38;5;241m.\u001b[39mn_jobs)\n",
      "File \u001b[1;32m~\\AppData\\Local\\Packages\\PythonSoftwareFoundation.Python.3.10_qbz5n2kfra8p0\\LocalCache\\local-packages\\Python310\\site-packages\\sklearn\\ensemble\\_forest.py:637\u001b[0m, in \u001b[0;36mBaseForest._validate_X_predict\u001b[1;34m(self, X)\u001b[0m\n\u001b[0;32m    634\u001b[0m \u001b[38;5;28;01melse\u001b[39;00m:\n\u001b[0;32m    635\u001b[0m     ensure_all_finite \u001b[38;5;241m=\u001b[39m \u001b[38;5;28;01mTrue\u001b[39;00m\n\u001b[1;32m--> 637\u001b[0m X \u001b[38;5;241m=\u001b[39m \u001b[43mvalidate_data\u001b[49m\u001b[43m(\u001b[49m\n\u001b[0;32m    638\u001b[0m \u001b[43m    \u001b[49m\u001b[38;5;28;43mself\u001b[39;49m\u001b[43m,\u001b[49m\n\u001b[0;32m    639\u001b[0m \u001b[43m    \u001b[49m\u001b[43mX\u001b[49m\u001b[43m,\u001b[49m\n\u001b[0;32m    640\u001b[0m \u001b[43m    \u001b[49m\u001b[43mdtype\u001b[49m\u001b[38;5;241;43m=\u001b[39;49m\u001b[43mDTYPE\u001b[49m\u001b[43m,\u001b[49m\n\u001b[0;32m    641\u001b[0m \u001b[43m    \u001b[49m\u001b[43maccept_sparse\u001b[49m\u001b[38;5;241;43m=\u001b[39;49m\u001b[38;5;124;43m\"\u001b[39;49m\u001b[38;5;124;43mcsr\u001b[39;49m\u001b[38;5;124;43m\"\u001b[39;49m\u001b[43m,\u001b[49m\n\u001b[0;32m    642\u001b[0m \u001b[43m    \u001b[49m\u001b[43mreset\u001b[49m\u001b[38;5;241;43m=\u001b[39;49m\u001b[38;5;28;43;01mFalse\u001b[39;49;00m\u001b[43m,\u001b[49m\n\u001b[0;32m    643\u001b[0m \u001b[43m    \u001b[49m\u001b[43mensure_all_finite\u001b[49m\u001b[38;5;241;43m=\u001b[39;49m\u001b[43mensure_all_finite\u001b[49m\u001b[43m,\u001b[49m\n\u001b[0;32m    644\u001b[0m \u001b[43m\u001b[49m\u001b[43m)\u001b[49m\n\u001b[0;32m    645\u001b[0m \u001b[38;5;28;01mif\u001b[39;00m issparse(X) \u001b[38;5;129;01mand\u001b[39;00m (X\u001b[38;5;241m.\u001b[39mindices\u001b[38;5;241m.\u001b[39mdtype \u001b[38;5;241m!=\u001b[39m np\u001b[38;5;241m.\u001b[39mintc \u001b[38;5;129;01mor\u001b[39;00m X\u001b[38;5;241m.\u001b[39mindptr\u001b[38;5;241m.\u001b[39mdtype \u001b[38;5;241m!=\u001b[39m np\u001b[38;5;241m.\u001b[39mintc):\n\u001b[0;32m    646\u001b[0m     \u001b[38;5;28;01mraise\u001b[39;00m \u001b[38;5;167;01mValueError\u001b[39;00m(\u001b[38;5;124m\"\u001b[39m\u001b[38;5;124mNo support for np.int64 index based sparse matrices\u001b[39m\u001b[38;5;124m\"\u001b[39m)\n",
      "File \u001b[1;32m~\\AppData\\Local\\Packages\\PythonSoftwareFoundation.Python.3.10_qbz5n2kfra8p0\\LocalCache\\local-packages\\Python310\\site-packages\\sklearn\\utils\\validation.py:2975\u001b[0m, in \u001b[0;36mvalidate_data\u001b[1;34m(_estimator, X, y, reset, validate_separately, skip_check_array, **check_params)\u001b[0m\n\u001b[0;32m   2972\u001b[0m     out \u001b[38;5;241m=\u001b[39m X, y\n\u001b[0;32m   2974\u001b[0m \u001b[38;5;28;01mif\u001b[39;00m \u001b[38;5;129;01mnot\u001b[39;00m no_val_X \u001b[38;5;129;01mand\u001b[39;00m check_params\u001b[38;5;241m.\u001b[39mget(\u001b[38;5;124m\"\u001b[39m\u001b[38;5;124mensure_2d\u001b[39m\u001b[38;5;124m\"\u001b[39m, \u001b[38;5;28;01mTrue\u001b[39;00m):\n\u001b[1;32m-> 2975\u001b[0m     \u001b[43m_check_n_features\u001b[49m\u001b[43m(\u001b[49m\u001b[43m_estimator\u001b[49m\u001b[43m,\u001b[49m\u001b[43m \u001b[49m\u001b[43mX\u001b[49m\u001b[43m,\u001b[49m\u001b[43m \u001b[49m\u001b[43mreset\u001b[49m\u001b[38;5;241;43m=\u001b[39;49m\u001b[43mreset\u001b[49m\u001b[43m)\u001b[49m\n\u001b[0;32m   2977\u001b[0m \u001b[38;5;28;01mreturn\u001b[39;00m out\n",
      "File \u001b[1;32m~\\AppData\\Local\\Packages\\PythonSoftwareFoundation.Python.3.10_qbz5n2kfra8p0\\LocalCache\\local-packages\\Python310\\site-packages\\sklearn\\utils\\validation.py:2839\u001b[0m, in \u001b[0;36m_check_n_features\u001b[1;34m(estimator, X, reset)\u001b[0m\n\u001b[0;32m   2836\u001b[0m     \u001b[38;5;28;01mreturn\u001b[39;00m\n\u001b[0;32m   2838\u001b[0m \u001b[38;5;28;01mif\u001b[39;00m n_features \u001b[38;5;241m!=\u001b[39m estimator\u001b[38;5;241m.\u001b[39mn_features_in_:\n\u001b[1;32m-> 2839\u001b[0m     \u001b[38;5;28;01mraise\u001b[39;00m \u001b[38;5;167;01mValueError\u001b[39;00m(\n\u001b[0;32m   2840\u001b[0m         \u001b[38;5;124mf\u001b[39m\u001b[38;5;124m\"\u001b[39m\u001b[38;5;124mX has \u001b[39m\u001b[38;5;132;01m{\u001b[39;00mn_features\u001b[38;5;132;01m}\u001b[39;00m\u001b[38;5;124m features, but \u001b[39m\u001b[38;5;132;01m{\u001b[39;00mestimator\u001b[38;5;241m.\u001b[39m\u001b[38;5;18m__class__\u001b[39m\u001b[38;5;241m.\u001b[39m\u001b[38;5;18m__name__\u001b[39m\u001b[38;5;132;01m}\u001b[39;00m\u001b[38;5;124m \u001b[39m\u001b[38;5;124m\"\u001b[39m\n\u001b[0;32m   2841\u001b[0m         \u001b[38;5;124mf\u001b[39m\u001b[38;5;124m\"\u001b[39m\u001b[38;5;124mis expecting \u001b[39m\u001b[38;5;132;01m{\u001b[39;00mestimator\u001b[38;5;241m.\u001b[39mn_features_in_\u001b[38;5;132;01m}\u001b[39;00m\u001b[38;5;124m features as input.\u001b[39m\u001b[38;5;124m\"\u001b[39m\n\u001b[0;32m   2842\u001b[0m     )\n",
      "\u001b[1;31mValueError\u001b[0m: X has 1454 features, but RandomForestRegressor is expecting 731 features as input."
     ]
    }
   ],
   "source": [
    "from lime.lime_tabular import LimeTabularExplainer\n",
    "\n",
    "explainer = LimeTabularExplainer(\n",
    "    training_data=np.array(X_test_transformed),\n",
    "    feature_names=feature_names_transformed,  # Use transformed feature names\n",
    "    mode='regression'\n",
    ")\n",
    "\n",
    "# Explain first sample for first target\n",
    "i = 0\n",
    "target_idx = 0\n",
    "exp = explainer.explain_instance(\n",
    "    data_row=X_test_transformed[i],\n",
    "    predict_fn=voting_estimators[target_idx].predict\n",
    ")\n",
    "\n",
    "# Show feature contributions\n",
    "exp.show_in_notebook(show_table=True)\n"
   ]
  },
  {
   "cell_type": "code",
   "execution_count": 24,
   "id": "aa1ece80",
   "metadata": {},
   "outputs": [],
   "source": [
    "# Transform features using the saved preprocessor\n",
    "X_test_transformed = preprocessor.transform(X_test)  # X_test is your new dataset\n",
    "\n",
    "# Convert to dense numeric array if needed\n",
    "if hasattr(X_test_transformed, \"toarray\"):\n",
    "    X_test_transformed = X_test_transformed.toarray()\n",
    "X_test_transformed = X_test_transformed.astype(float)\n"
   ]
  },
  {
   "cell_type": "code",
   "execution_count": 25,
   "id": "ab4f1b5c",
   "metadata": {},
   "outputs": [
    {
     "ename": "IndexError",
     "evalue": "list index out of range",
     "output_type": "error",
     "traceback": [
      "\u001b[1;31m---------------------------------------------------------------------------\u001b[0m",
      "\u001b[1;31mIndexError\u001b[0m                                Traceback (most recent call last)",
      "Cell \u001b[1;32mIn[25], line 4\u001b[0m\n\u001b[0;32m      1\u001b[0m \u001b[38;5;28;01mfrom\u001b[39;00m\u001b[38;5;250m \u001b[39m\u001b[38;5;21;01mlime\u001b[39;00m\u001b[38;5;21;01m.\u001b[39;00m\u001b[38;5;21;01mlime_tabular\u001b[39;00m\u001b[38;5;250m \u001b[39m\u001b[38;5;28;01mimport\u001b[39;00m LimeTabularExplainer\n\u001b[0;32m      3\u001b[0m \u001b[38;5;66;03m# Create LIME explainer\u001b[39;00m\n\u001b[1;32m----> 4\u001b[0m explainer \u001b[38;5;241m=\u001b[39m \u001b[43mLimeTabularExplainer\u001b[49m\u001b[43m(\u001b[49m\n\u001b[0;32m      5\u001b[0m \u001b[43m    \u001b[49m\u001b[43mtraining_data\u001b[49m\u001b[38;5;241;43m=\u001b[39;49m\u001b[43mnp\u001b[49m\u001b[38;5;241;43m.\u001b[39;49m\u001b[43marray\u001b[49m\u001b[43m(\u001b[49m\u001b[43mX_test_transformed\u001b[49m\u001b[43m)\u001b[49m\u001b[43m,\u001b[49m\n\u001b[0;32m      6\u001b[0m \u001b[43m    \u001b[49m\u001b[43mfeature_names\u001b[49m\u001b[38;5;241;43m=\u001b[39;49m\u001b[43mX_test\u001b[49m\u001b[38;5;241;43m.\u001b[39;49m\u001b[43mcolumns\u001b[49m\u001b[43m,\u001b[49m\n\u001b[0;32m      7\u001b[0m \u001b[43m    \u001b[49m\u001b[43mmode\u001b[49m\u001b[38;5;241;43m=\u001b[39;49m\u001b[38;5;124;43m'\u001b[39;49m\u001b[38;5;124;43mregression\u001b[39;49m\u001b[38;5;124;43m'\u001b[39;49m\n\u001b[0;32m      8\u001b[0m \u001b[43m)\u001b[49m\n\u001b[0;32m     10\u001b[0m \u001b[38;5;66;03m# Explain the first sample for the first target\u001b[39;00m\n\u001b[0;32m     11\u001b[0m i \u001b[38;5;241m=\u001b[39m \u001b[38;5;241m0\u001b[39m  \u001b[38;5;66;03m# first sample\u001b[39;00m\n",
      "File \u001b[1;32m~\\AppData\\Local\\Packages\\PythonSoftwareFoundation.Python.3.10_qbz5n2kfra8p0\\LocalCache\\local-packages\\Python310\\site-packages\\lime\\lime_tabular.py:215\u001b[0m, in \u001b[0;36mLimeTabularExplainer.__init__\u001b[1;34m(self, training_data, mode, training_labels, feature_names, categorical_features, categorical_names, kernel_width, kernel, verbose, class_names, feature_selection, discretize_continuous, discretizer, sample_around_instance, random_state, training_data_stats)\u001b[0m\n\u001b[0;32m    209\u001b[0m     discretizer \u001b[38;5;241m=\u001b[39m StatsDiscretizer(training_data, \u001b[38;5;28mself\u001b[39m\u001b[38;5;241m.\u001b[39mcategorical_features,\n\u001b[0;32m    210\u001b[0m                                    \u001b[38;5;28mself\u001b[39m\u001b[38;5;241m.\u001b[39mfeature_names, labels\u001b[38;5;241m=\u001b[39mtraining_labels,\n\u001b[0;32m    211\u001b[0m                                    data_stats\u001b[38;5;241m=\u001b[39m\u001b[38;5;28mself\u001b[39m\u001b[38;5;241m.\u001b[39mtraining_data_stats,\n\u001b[0;32m    212\u001b[0m                                    random_state\u001b[38;5;241m=\u001b[39m\u001b[38;5;28mself\u001b[39m\u001b[38;5;241m.\u001b[39mrandom_state)\n\u001b[0;32m    214\u001b[0m \u001b[38;5;28;01mif\u001b[39;00m discretizer \u001b[38;5;241m==\u001b[39m \u001b[38;5;124m'\u001b[39m\u001b[38;5;124mquartile\u001b[39m\u001b[38;5;124m'\u001b[39m:\n\u001b[1;32m--> 215\u001b[0m     \u001b[38;5;28mself\u001b[39m\u001b[38;5;241m.\u001b[39mdiscretizer \u001b[38;5;241m=\u001b[39m \u001b[43mQuartileDiscretizer\u001b[49m\u001b[43m(\u001b[49m\n\u001b[0;32m    216\u001b[0m \u001b[43m            \u001b[49m\u001b[43mtraining_data\u001b[49m\u001b[43m,\u001b[49m\u001b[43m \u001b[49m\u001b[38;5;28;43mself\u001b[39;49m\u001b[38;5;241;43m.\u001b[39;49m\u001b[43mcategorical_features\u001b[49m\u001b[43m,\u001b[49m\n\u001b[0;32m    217\u001b[0m \u001b[43m            \u001b[49m\u001b[38;5;28;43mself\u001b[39;49m\u001b[38;5;241;43m.\u001b[39;49m\u001b[43mfeature_names\u001b[49m\u001b[43m,\u001b[49m\u001b[43m \u001b[49m\u001b[43mlabels\u001b[49m\u001b[38;5;241;43m=\u001b[39;49m\u001b[43mtraining_labels\u001b[49m\u001b[43m,\u001b[49m\n\u001b[0;32m    218\u001b[0m \u001b[43m            \u001b[49m\u001b[43mrandom_state\u001b[49m\u001b[38;5;241;43m=\u001b[39;49m\u001b[38;5;28;43mself\u001b[39;49m\u001b[38;5;241;43m.\u001b[39;49m\u001b[43mrandom_state\u001b[49m\u001b[43m)\u001b[49m\n\u001b[0;32m    219\u001b[0m \u001b[38;5;28;01melif\u001b[39;00m discretizer \u001b[38;5;241m==\u001b[39m \u001b[38;5;124m'\u001b[39m\u001b[38;5;124mdecile\u001b[39m\u001b[38;5;124m'\u001b[39m:\n\u001b[0;32m    220\u001b[0m     \u001b[38;5;28mself\u001b[39m\u001b[38;5;241m.\u001b[39mdiscretizer \u001b[38;5;241m=\u001b[39m DecileDiscretizer(\n\u001b[0;32m    221\u001b[0m             training_data, \u001b[38;5;28mself\u001b[39m\u001b[38;5;241m.\u001b[39mcategorical_features,\n\u001b[0;32m    222\u001b[0m             \u001b[38;5;28mself\u001b[39m\u001b[38;5;241m.\u001b[39mfeature_names, labels\u001b[38;5;241m=\u001b[39mtraining_labels,\n\u001b[0;32m    223\u001b[0m             random_state\u001b[38;5;241m=\u001b[39m\u001b[38;5;28mself\u001b[39m\u001b[38;5;241m.\u001b[39mrandom_state)\n",
      "File \u001b[1;32m~\\AppData\\Local\\Packages\\PythonSoftwareFoundation.Python.3.10_qbz5n2kfra8p0\\LocalCache\\local-packages\\Python310\\site-packages\\lime\\discretize.py:178\u001b[0m, in \u001b[0;36mQuartileDiscretizer.__init__\u001b[1;34m(self, data, categorical_features, feature_names, labels, random_state)\u001b[0m\n\u001b[0;32m    176\u001b[0m \u001b[38;5;28;01mdef\u001b[39;00m\u001b[38;5;250m \u001b[39m\u001b[38;5;21m__init__\u001b[39m(\u001b[38;5;28mself\u001b[39m, data, categorical_features, feature_names, labels\u001b[38;5;241m=\u001b[39m\u001b[38;5;28;01mNone\u001b[39;00m, random_state\u001b[38;5;241m=\u001b[39m\u001b[38;5;28;01mNone\u001b[39;00m):\n\u001b[1;32m--> 178\u001b[0m     \u001b[43mBaseDiscretizer\u001b[49m\u001b[38;5;241;43m.\u001b[39;49m\u001b[38;5;21;43m__init__\u001b[39;49m\u001b[43m(\u001b[49m\u001b[38;5;28;43mself\u001b[39;49m\u001b[43m,\u001b[49m\u001b[43m \u001b[49m\u001b[43mdata\u001b[49m\u001b[43m,\u001b[49m\u001b[43m \u001b[49m\u001b[43mcategorical_features\u001b[49m\u001b[43m,\u001b[49m\n\u001b[0;32m    179\u001b[0m \u001b[43m                             \u001b[49m\u001b[43mfeature_names\u001b[49m\u001b[43m,\u001b[49m\u001b[43m \u001b[49m\u001b[43mlabels\u001b[49m\u001b[38;5;241;43m=\u001b[39;49m\u001b[43mlabels\u001b[49m\u001b[43m,\u001b[49m\n\u001b[0;32m    180\u001b[0m \u001b[43m                             \u001b[49m\u001b[43mrandom_state\u001b[49m\u001b[38;5;241;43m=\u001b[39;49m\u001b[43mrandom_state\u001b[49m\u001b[43m)\u001b[49m\n",
      "File \u001b[1;32m~\\AppData\\Local\\Packages\\PythonSoftwareFoundation.Python.3.10_qbz5n2kfra8p0\\LocalCache\\local-packages\\Python310\\site-packages\\lime\\discretize.py:64\u001b[0m, in \u001b[0;36mBaseDiscretizer.__init__\u001b[1;34m(self, data, categorical_features, feature_names, labels, random_state, data_stats)\u001b[0m\n\u001b[0;32m     62\u001b[0m n_bins \u001b[38;5;241m=\u001b[39m qts\u001b[38;5;241m.\u001b[39mshape[\u001b[38;5;241m0\u001b[39m]  \u001b[38;5;66;03m# Actually number of borders (= #bins-1)\u001b[39;00m\n\u001b[0;32m     63\u001b[0m boundaries \u001b[38;5;241m=\u001b[39m np\u001b[38;5;241m.\u001b[39mmin(data[:, feature]), np\u001b[38;5;241m.\u001b[39mmax(data[:, feature])\n\u001b[1;32m---> 64\u001b[0m name \u001b[38;5;241m=\u001b[39m \u001b[43mfeature_names\u001b[49m\u001b[43m[\u001b[49m\u001b[43mfeature\u001b[49m\u001b[43m]\u001b[49m\n\u001b[0;32m     66\u001b[0m \u001b[38;5;28mself\u001b[39m\u001b[38;5;241m.\u001b[39mnames[feature] \u001b[38;5;241m=\u001b[39m [\u001b[38;5;124m'\u001b[39m\u001b[38;5;132;01m%s\u001b[39;00m\u001b[38;5;124m <= \u001b[39m\u001b[38;5;132;01m%.2f\u001b[39;00m\u001b[38;5;124m'\u001b[39m \u001b[38;5;241m%\u001b[39m (name, qts[\u001b[38;5;241m0\u001b[39m])]\n\u001b[0;32m     67\u001b[0m \u001b[38;5;28;01mfor\u001b[39;00m i \u001b[38;5;129;01min\u001b[39;00m \u001b[38;5;28mrange\u001b[39m(n_bins \u001b[38;5;241m-\u001b[39m \u001b[38;5;241m1\u001b[39m):\n",
      "\u001b[1;31mIndexError\u001b[0m: list index out of range"
     ]
    }
   ],
   "source": [
    "from lime.lime_tabular import LimeTabularExplainer\n",
    "\n",
    "# Create LIME explainer\n",
    "explainer = LimeTabularExplainer(\n",
    "    training_data=np.array(X_test_transformed),\n",
    "    feature_names=X_test.columns,\n",
    "    mode='regression'\n",
    ")\n",
    "\n",
    "# Explain the first sample for the first target\n",
    "i = 0  # first sample\n",
    "target_idx = 0  # first target\n",
    "exp = explainer.explain_instance(\n",
    "    data_row=X_test_transformed[i],\n",
    "    predict_fn=voting_estimators[target_idx].predict  # VotingRegressor for target\n",
    ")\n",
    "\n",
    "# Show feature contributions\n",
    "exp.show_in_notebook(show_table=True)\n"
   ]
  },
  {
   "cell_type": "code",
   "execution_count": 26,
   "id": "6f91bf45",
   "metadata": {},
   "outputs": [
    {
     "name": "stderr",
     "output_type": "stream",
     "text": [
      "C:\\Users\\noman\\AppData\\Local\\Packages\\PythonSoftwareFoundation.Python.3.10_qbz5n2kfra8p0\\LocalCache\\local-packages\\Python310\\site-packages\\tqdm\\auto.py:21: TqdmWarning: IProgress not found. Please update jupyter and ipywidgets. See https://ipywidgets.readthedocs.io/en/stable/user_install.html\n",
      "  from .autonotebook import tqdm as notebook_tqdm\n"
     ]
    },
    {
     "ename": "KeyboardInterrupt",
     "evalue": "",
     "output_type": "error",
     "traceback": [
      "\u001b[1;31m---------------------------------------------------------------------------\u001b[0m",
      "\u001b[1;31mKeyboardInterrupt\u001b[0m                         Traceback (most recent call last)",
      "Cell \u001b[1;32mIn[26], line 14\u001b[0m\n\u001b[0;32m     12\u001b[0m rf_model \u001b[38;5;241m=\u001b[39m voting_target\u001b[38;5;241m.\u001b[39mestimators_[\u001b[38;5;241m0\u001b[39m]\n\u001b[0;32m     13\u001b[0m explainer \u001b[38;5;241m=\u001b[39m shap\u001b[38;5;241m.\u001b[39mTreeExplainer(rf_model)\n\u001b[1;32m---> 14\u001b[0m shap_values \u001b[38;5;241m=\u001b[39m \u001b[43mexplainer\u001b[49m\u001b[38;5;241;43m.\u001b[39;49m\u001b[43mshap_values\u001b[49m\u001b[43m(\u001b[49m\u001b[43mX_test_transformed\u001b[49m\u001b[43m)\u001b[49m\n\u001b[0;32m     16\u001b[0m \u001b[38;5;66;03m# Convert to DataFrame\u001b[39;00m\n\u001b[0;32m     17\u001b[0m df \u001b[38;5;241m=\u001b[39m pd\u001b[38;5;241m.\u001b[39mDataFrame(shap_values, columns\u001b[38;5;241m=\u001b[39mX_test\u001b[38;5;241m.\u001b[39mcolumns)\n",
      "File \u001b[1;32m~\\AppData\\Local\\Packages\\PythonSoftwareFoundation.Python.3.10_qbz5n2kfra8p0\\LocalCache\\local-packages\\Python310\\site-packages\\shap\\explainers\\_tree.py:672\u001b[0m, in \u001b[0;36mTreeExplainer.shap_values\u001b[1;34m(self, X, y, tree_limit, approximate, check_additivity, from_call)\u001b[0m\n\u001b[0;32m    670\u001b[0m out \u001b[38;5;241m=\u001b[39m \u001b[38;5;28mself\u001b[39m\u001b[38;5;241m.\u001b[39m_get_shap_output(phi, flat_output)\n\u001b[0;32m    671\u001b[0m \u001b[38;5;28;01mif\u001b[39;00m check_additivity \u001b[38;5;129;01mand\u001b[39;00m \u001b[38;5;28mself\u001b[39m\u001b[38;5;241m.\u001b[39mmodel\u001b[38;5;241m.\u001b[39mmodel_output \u001b[38;5;241m==\u001b[39m \u001b[38;5;124m\"\u001b[39m\u001b[38;5;124mraw\u001b[39m\u001b[38;5;124m\"\u001b[39m:\n\u001b[1;32m--> 672\u001b[0m     \u001b[38;5;28mself\u001b[39m\u001b[38;5;241m.\u001b[39massert_additivity(out, \u001b[38;5;28;43mself\u001b[39;49m\u001b[38;5;241;43m.\u001b[39;49m\u001b[43mmodel\u001b[49m\u001b[38;5;241;43m.\u001b[39;49m\u001b[43mpredict\u001b[49m\u001b[43m(\u001b[49m\u001b[43mX\u001b[49m\u001b[43m)\u001b[49m)\n\u001b[0;32m    674\u001b[0m \u001b[38;5;66;03m# This statements handles the case of multiple outputs\u001b[39;00m\n\u001b[0;32m    675\u001b[0m \u001b[38;5;66;03m# e.g. a multi-class classification problem, multi-target regression problem\u001b[39;00m\n\u001b[0;32m    676\u001b[0m \u001b[38;5;66;03m# in this case the output shape corresponds to [num_samples, num_features, num_outputs]\u001b[39;00m\n\u001b[0;32m    677\u001b[0m \u001b[38;5;28;01mif\u001b[39;00m \u001b[38;5;28misinstance\u001b[39m(out, \u001b[38;5;28mlist\u001b[39m):\n",
      "File \u001b[1;32m~\\AppData\\Local\\Packages\\PythonSoftwareFoundation.Python.3.10_qbz5n2kfra8p0\\LocalCache\\local-packages\\Python310\\site-packages\\shap\\explainers\\_tree.py:1600\u001b[0m, in \u001b[0;36mTreeEnsemble.predict\u001b[1;34m(self, X, y, output, tree_limit)\u001b[0m\n\u001b[0;32m   1598\u001b[0m \u001b[38;5;28;01mif\u001b[39;00m X\u001b[38;5;241m.\u001b[39mdtype\u001b[38;5;241m.\u001b[39mtype \u001b[38;5;241m!=\u001b[39m \u001b[38;5;28mself\u001b[39m\u001b[38;5;241m.\u001b[39minput_dtype:\n\u001b[0;32m   1599\u001b[0m     X \u001b[38;5;241m=\u001b[39m X\u001b[38;5;241m.\u001b[39mastype(\u001b[38;5;28mself\u001b[39m\u001b[38;5;241m.\u001b[39minput_dtype)\n\u001b[1;32m-> 1600\u001b[0m X_missing \u001b[38;5;241m=\u001b[39m \u001b[43mnp\u001b[49m\u001b[38;5;241;43m.\u001b[39;49m\u001b[43misnan\u001b[49m\u001b[43m(\u001b[49m\u001b[43mX\u001b[49m\u001b[43m,\u001b[49m\u001b[43m \u001b[49m\u001b[43mdtype\u001b[49m\u001b[38;5;241;43m=\u001b[39;49m\u001b[38;5;28;43mbool\u001b[39;49m\u001b[43m)\u001b[49m\n\u001b[0;32m   1601\u001b[0m \u001b[38;5;28;01massert\u001b[39;00m \u001b[38;5;28misinstance\u001b[39m(X, np\u001b[38;5;241m.\u001b[39mndarray), \u001b[38;5;124m\"\u001b[39m\u001b[38;5;124mUnknown instance type: \u001b[39m\u001b[38;5;124m\"\u001b[39m \u001b[38;5;241m+\u001b[39m \u001b[38;5;28mstr\u001b[39m(\u001b[38;5;28mtype\u001b[39m(X))\n\u001b[0;32m   1602\u001b[0m \u001b[38;5;28;01massert\u001b[39;00m \u001b[38;5;28mlen\u001b[39m(X\u001b[38;5;241m.\u001b[39mshape) \u001b[38;5;241m==\u001b[39m \u001b[38;5;241m2\u001b[39m, \u001b[38;5;124m\"\u001b[39m\u001b[38;5;124mPassed input data matrix X must have 1 or 2 dimensions!\u001b[39m\u001b[38;5;124m\"\u001b[39m\n",
      "\u001b[1;31mKeyboardInterrupt\u001b[0m: "
     ]
    }
   ],
   "source": [
    "import shap\n",
    "import pandas as pd\n",
    "import plotly.express as px\n",
    "\n",
    "shap_data = []\n",
    "\n",
    "for i, target_name in enumerate(target_names):\n",
    "    # Extract VotingRegressor for this target\n",
    "    voting_target = voting_estimators[i]  # saved estimator per target\n",
    "    \n",
    "    # Use TreeExplainer on RandomForest (first estimator in Voting)\n",
    "    rf_model = voting_target.estimators_[0]\n",
    "    explainer = shap.TreeExplainer(rf_model)\n",
    "    shap_values = explainer.shap_values(X_test_transformed)\n",
    "    \n",
    "    # Convert to DataFrame\n",
    "    df = pd.DataFrame(shap_values, columns=X_test.columns)\n",
    "    df[\"Target\"] = target_name\n",
    "    df[\"Sample\"] = range(df.shape[0])\n",
    "    \n",
    "    df_melt = df.melt(id_vars=[\"Target\",\"Sample\"], var_name=\"Feature\", value_name=\"SHAP Value\")\n",
    "    shap_data.append(df_melt)\n",
    "\n",
    "# Combine all targets\n",
    "shap_df = pd.concat(shap_data)\n",
    "\n",
    "# Average absolute SHAP values per feature per target\n",
    "avg_shap = shap_df.groupby([\"Target\", \"Feature\"])[\"SHAP Value\"].apply(lambda x: abs(x).mean()).reset_index()\n",
    "\n",
    "# Plot interactive bar chart with Plotly\n",
    "fig = px.bar(avg_shap, x=\"Feature\", y=\"SHAP Value\", color=\"Target\", barmode=\"group\",\n",
    "             text=\"SHAP Value\", title=\"Average Absolute SHAP Values per Feature per Target\")\n",
    "fig.update_traces(texttemplate='%{text:.5f}', textposition='outside')\n",
    "fig.show()\n"
   ]
  },
  {
   "cell_type": "code",
   "execution_count": null,
   "id": "5d744d18",
   "metadata": {},
   "outputs": [],
   "source": []
  }
 ],
 "metadata": {
  "kernelspec": {
   "display_name": "base",
   "language": "python",
   "name": "python3"
  },
  "language_info": {
   "codemirror_mode": {
    "name": "ipython",
    "version": 3
   },
   "file_extension": ".py",
   "mimetype": "text/x-python",
   "name": "python",
   "nbconvert_exporter": "python",
   "pygments_lexer": "ipython3",
   "version": "3.10.9"
  }
 },
 "nbformat": 4,
 "nbformat_minor": 5
}
